{
 "cells": [
  {
   "cell_type": "code",
   "execution_count": null,
   "metadata": {},
   "outputs": [],
   "source": []
  },
  {
   "cell_type": "code",
   "execution_count": 1,
   "metadata": {
    "ExecuteTime": {
     "end_time": "2021-02-06T01:38:02.393316Z",
     "start_time": "2021-02-06T01:38:02.271610Z"
    }
   },
   "outputs": [],
   "source": [
    "%run Funciones.ipynb"
   ]
  },
  {
   "cell_type": "code",
   "execution_count": 2,
   "metadata": {
    "ExecuteTime": {
     "end_time": "2021-02-06T01:38:02.973125Z",
     "start_time": "2021-02-06T01:38:02.394556Z"
    }
   },
   "outputs": [],
   "source": [
    "%run ParserMaterias.ipynb"
   ]
  },
  {
   "cell_type": "code",
   "execution_count": 3,
   "metadata": {
    "ExecuteTime": {
     "end_time": "2021-02-06T01:38:03.053703Z",
     "start_time": "2021-02-06T01:38:02.973997Z"
    }
   },
   "outputs": [
    {
     "data": {
      "text/plain": [
       "[162, 765, 183, 165, 766, 395, 433, 163, 712, 939]"
      ]
     },
     "execution_count": 3,
     "metadata": {},
     "output_type": "execute_result"
    }
   ],
   "source": [
    "get_recommendations(\"topologia ecuaciones diferenciales\")"
   ]
  },
  {
   "cell_type": "code",
   "execution_count": 4,
   "metadata": {
    "ExecuteTime": {
     "end_time": "2021-02-06T01:38:03.058550Z",
     "start_time": "2021-02-06T01:38:03.054703Z"
    }
   },
   "outputs": [],
   "source": [
    "def get_recomendations_str(intereses):\n",
    "    '''\n",
    "    Dado una cadena con los intereses de alguna persona, regresa el nombre\n",
    "    de las materias que le recomienda.\n",
    "    ----------------------------------------------------------\n",
    "    :param intereses str: Cadena que tiene intereses del alumno\n",
    "    :returns [str]: Lista con materias a considerar\n",
    "    '''\n",
    "    recomendaciones = []\n",
    "    recomendaciones_num = get_recommendations(intereses)\n",
    "    for recomendacion in recomendaciones_num:\n",
    "        try:\n",
    "            recomendaciones.append((clave_to_nombre(recomendacion),str_to_clave(recomendacion)))\n",
    "        except Exception as e:\n",
    "            pass\n",
    "    return recomendaciones"
   ]
  },
  {
   "cell_type": "code",
   "execution_count": 5,
   "metadata": {
    "ExecuteTime": {
     "end_time": "2021-02-06T01:38:03.143092Z",
     "start_time": "2021-02-06T01:38:03.060259Z"
    }
   },
   "outputs": [
    {
     "data": {
      "text/plain": [
       "[('ecuaciones diferenciales i', '0162'),\n",
       " ('topologia i', '0765'),\n",
       " ('ecuaciones diferenciales parciales ii', '0183'),\n",
       " ('ecuaciones diferenciales parciales i', '0165'),\n",
       " ('topologia ii', '0766'),\n",
       " ('ecuaciones diferenciales ii', '0163'),\n",
       " ('seminario de topologia b', '0712')]"
      ]
     },
     "execution_count": 5,
     "metadata": {},
     "output_type": "execute_result"
    }
   ],
   "source": [
    "get_recomendations_str('topologia ecuaciones diferenciales')"
   ]
  },
  {
   "cell_type": "code",
   "execution_count": null,
   "metadata": {},
   "outputs": [],
   "source": []
  },
  {
   "cell_type": "code",
   "execution_count": null,
   "metadata": {},
   "outputs": [],
   "source": []
  },
  {
   "cell_type": "code",
   "execution_count": null,
   "metadata": {},
   "outputs": [],
   "source": []
  },
  {
   "cell_type": "code",
   "execution_count": 6,
   "metadata": {
    "ExecuteTime": {
     "end_time": "2021-02-06T01:38:03.147948Z",
     "start_time": "2021-02-06T01:38:03.144447Z"
    }
   },
   "outputs": [
    {
     "data": {
      "text/plain": [
       "['b']"
      ]
     },
     "execution_count": 6,
     "metadata": {},
     "output_type": "execute_result"
    }
   ],
   "source": [
    "lista = ['a','b']\n",
    "lista.remove('a')\n",
    "lista"
   ]
  },
  {
   "cell_type": "code",
   "execution_count": 7,
   "metadata": {
    "ExecuteTime": {
     "end_time": "2021-02-06T01:38:03.238132Z",
     "start_time": "2021-02-06T01:38:03.234688Z"
    }
   },
   "outputs": [
    {
     "data": {
      "text/plain": [
       "['b', 'a']"
      ]
     },
     "execution_count": 7,
     "metadata": {},
     "output_type": "execute_result"
    }
   ],
   "source": [
    "lista = ['a','b']\n",
    "random.shuffle(lista)\n",
    "lista"
   ]
  },
  {
   "cell_type": "code",
   "execution_count": 8,
   "metadata": {
    "ExecuteTime": {
     "end_time": "2021-02-06T01:38:03.253148Z",
     "start_time": "2021-02-06T01:38:03.246797Z"
    }
   },
   "outputs": [
    {
     "data": {
      "text/plain": [
       "(False,\n",
       " {'lu': {(15.0, 16.0): '4171', (19.0, 20.0): '4172'},\n",
       "  'ma': {(15.0, 16.0): '4171', (19.0, 20.0): '4172'},\n",
       "  'mi': {(15.0, 16.0): '4171', (19.0, 20.0): '4172'},\n",
       "  'ju': {(15.0, 16.0): '4171', (19.0, 20.0): '4172'},\n",
       "  'vi': {(15.0, 16.0): '4171', (19.0, 20.0): '4172'},\n",
       "  'sa': {}})"
      ]
     },
     "execution_count": 8,
     "metadata": {},
     "output_type": "execute_result"
    }
   ],
   "source": [
    "\n",
    "\n",
    "def conjunto_se_intersecta(grupos):\n",
    "    '''\n",
    "    Dado un conjunto de grupos, comprueba si los horarios\n",
    "    de los grupos se intersectan\n",
    "    -------------------------------------------------\n",
    "    :param grupos [str]: Lista de grupos\n",
    "    \n",
    "    :return Bool: Indicador de si los conjuntos se intersectan o no.\n",
    "    '''\n",
    "    dias = ['lu','ma','mi','ju','vi','sa']\n",
    "    primer_horario = grupo_info(grupos[0])[2]\n",
    "    horario = {dia:{} for dia in dias}\n",
    "    \n",
    "    for dia, hora in primer_horario.items():\n",
    "        horario[dia][hora] = grupos[0]\n",
    "    \n",
    "    for grupo in grupos[1:]:\n",
    "        horario_materia = grupo_info(grupo)[2]\n",
    "        if se_intersecta_semana(horario_materia,horario):\n",
    "            return True, horario\n",
    "        for dia, hora in horario_materia.items():\n",
    "            horario[dia][hora] = grupo\n",
    "\n",
    "    return False, horario\n",
    "conjunto_se_intersecta(['4171','4172'])"
   ]
  },
  {
   "cell_type": "code",
   "execution_count": 9,
   "metadata": {
    "ExecuteTime": {
     "end_time": "2021-02-06T01:38:03.269527Z",
     "start_time": "2021-02-06T01:38:03.261058Z"
    }
   },
   "outputs": [
    {
     "data": {
      "text/plain": [
       "({'lu': {(10.0, 11.0): '4316', (9.0, 10.0): '4175'},\n",
       "  'ma': {(10.0, 11.0): '4316', (9.0, 10.0): '4175'},\n",
       "  'mi': {(10.0, 11.0): '4316', (9.0, 10.0): '4175'},\n",
       "  'ju': {(10.0, 11.0): '4316', (9.0, 10.0): '4175'},\n",
       "  'vi': {(10.0, 11.0): '4316', (9.0, 10.0): '4175'},\n",
       "  'sa': {}},\n",
       " [('0766', '4316'), ('0001', '4175')])"
      ]
     },
     "execution_count": 9,
     "metadata": {},
     "output_type": "execute_result"
    }
   ],
   "source": [
    "def crear_horario(claves,hora_inicio,hora_fin,seed=None):\n",
    "    '''\n",
    "    Dada una lista de claves y hora de inicio y fin de un horario deseado,\n",
    "    regresa un diccionario con el horario de esas materias, así como\n",
    "    una lista de (clave,grupo) en caso de que sea posible formar el horario,\n",
    "    en caso contrario, regresa Falso\n",
    "    ----------------------------------------------------------------\n",
    "    :param claves [str]: Lista de claves\n",
    "    :param hora_inicio float: Hora de inicio de las clases representadas\n",
    "                             en horas u horas y media (XX.0, XX.5)\n",
    "    :param hora_fin float: Hora de fin de las clases representadas\n",
    "                             en horas u horas y media (XX.0, XX.5)\n",
    "    :param seed int: Semilla para la elección de grupos, en caso de no ser especificada,\n",
    "                    la elección de grupos será aleatoria\n",
    "    \n",
    "    :returns False: En caso de no haber una combinación posible\n",
    "    :returns horario dict: Diccionario con los días y las horas en que se tiene cada\n",
    "                        materia. Ejem:\n",
    "                        {'lu': {(9.0, 10.0): '4175', (8.0, 9.0): '4112'},\n",
    "                          'ma': {(9.0, 10.0): '4175', (8.0, 9.0): '4112'},\n",
    "                          'mi': {(9.0, 10.0): '4175', (8.0, 9.0): '4112'},\n",
    "                          'ju': {(9.0, 10.0): '4175', (8.0, 9.0): '4112'},\n",
    "                          'vi': {(9.0, 10.0): '4175', (8.0, 9.0): '4112'},\n",
    "                          'sa': {}}\n",
    "    :returns [(clave,grupo)]: Lista con las claves y grupos que se eligieron. \n",
    "                            Ejem: [('0001', '4175'), ('0005', '4112')]\n",
    "    '''\n",
    "    if hora_inicio%0.5 != 0:\n",
    "        raise Exception('Ese no es un horario válido, tiene que representar una hora o \\n fracción de media hora')\n",
    "        \n",
    "    if seed is None:\n",
    "        seed = random.randint(0,2**10)\n",
    "    random.seed(seed)\n",
    "    random.shuffle(claves)\n",
    "    \n",
    "    candidatos = generar_candidatos_semana(claves,hora_inicio,hora_fin)\n",
    "    candidatos_por_clave = candidatos[2]\n",
    "    for dia in candidatos_por_clave.keys():\n",
    "        if candidatos_por_clave[dia] == []:\n",
    "            return False #En caso de que no sea posible acomodar algún horario\n",
    "        random.shuffle(candidatos_por_clave[dia])\n",
    "    \n",
    "    grupos = list(candidatos_por_clave.values())\n",
    "    combinaciones = list(itertools.product(*grupos))\n",
    "    for comb in combinaciones:\n",
    "        if not conjunto_se_intersecta(comb)[0]:\n",
    "            return conjunto_se_intersecta(comb)[1], list(zip(claves,comb))\n",
    "    return False\n",
    "\n",
    "crear_horario(['0766','0001'],8,13)"
   ]
  },
  {
   "cell_type": "code",
   "execution_count": 10,
   "metadata": {
    "ExecuteTime": {
     "end_time": "2021-02-06T01:38:03.369131Z",
     "start_time": "2021-02-06T01:38:03.280388Z"
    }
   },
   "outputs": [
    {
     "data": {
      "text/plain": [
       "[('algebra moderna i', '0001'),\n",
       " ('electromagnetismo ii', '0609'),\n",
       " ('teoria de las graficas ii', '0277'),\n",
       " ('teoria de los numeros i', '0764'),\n",
       " ('fisica computacional', '0715'),\n",
       " ('variable compleja i', '0840')]"
      ]
     },
     "execution_count": 10,
     "metadata": {},
     "output_type": "execute_result"
    }
   ],
   "source": [
    "get_recomendations_str('Teoría de grupos')"
   ]
  },
  {
   "cell_type": "code",
   "execution_count": 11,
   "metadata": {
    "ExecuteTime": {
     "end_time": "2021-02-06T01:38:03.381996Z",
     "start_time": "2021-02-06T01:38:03.378919Z"
    }
   },
   "outputs": [
    {
     "data": {
      "text/plain": [
       "'electromagnetismo ii'"
      ]
     },
     "execution_count": 11,
     "metadata": {},
     "output_type": "execute_result"
    }
   ],
   "source": [
    "clave_to_nombre('0609')"
   ]
  },
  {
   "cell_type": "code",
   "execution_count": 12,
   "metadata": {
    "ExecuteTime": {
     "end_time": "2021-02-06T01:38:03.397332Z",
     "start_time": "2021-02-06T01:38:03.392743Z"
    }
   },
   "outputs": [
    {
     "data": {
      "text/plain": [
       "({'lu': {(8.0, 10.0): '8234'},\n",
       "  'ma': {(8.0, 10.0): '8234'},\n",
       "  'mi': {},\n",
       "  'ju': {(8.0, 10.0): '8234'},\n",
       "  'vi': {},\n",
       "  'sa': {}},\n",
       " [('0609', '8234')])"
      ]
     },
     "execution_count": 12,
     "metadata": {},
     "output_type": "execute_result"
    }
   ],
   "source": [
    "crear_horario(['0609'],8,13)"
   ]
  },
  {
   "cell_type": "code",
   "execution_count": 13,
   "metadata": {
    "ExecuteTime": {
     "end_time": "2021-02-06T01:38:03.401402Z",
     "start_time": "2021-02-06T01:38:03.398641Z"
    }
   },
   "outputs": [
    {
     "data": {
      "text/plain": [
       "('0609',\n",
       " 'luis fernando magaña solis',\n",
       " {'lu': (8.0, 10.0), 'ma': (8.0, 10.0), 'ju': (8.0, 10.0)})"
      ]
     },
     "execution_count": 13,
     "metadata": {},
     "output_type": "execute_result"
    }
   ],
   "source": [
    "grupo_info('8234')"
   ]
  },
  {
   "cell_type": "code",
   "execution_count": 14,
   "metadata": {
    "ExecuteTime": {
     "end_time": "2021-02-06T01:38:03.404298Z",
     "start_time": "2021-02-06T01:38:03.402321Z"
    }
   },
   "outputs": [],
   "source": [
    "clave_materia, profesor, horario = grupo_info('8234')"
   ]
  },
  {
   "cell_type": "code",
   "execution_count": 15,
   "metadata": {
    "ExecuteTime": {
     "end_time": "2021-02-06T01:38:03.408602Z",
     "start_time": "2021-02-06T01:38:03.405844Z"
    }
   },
   "outputs": [
    {
     "data": {
      "text/plain": [
       "'0609'"
      ]
     },
     "execution_count": 15,
     "metadata": {},
     "output_type": "execute_result"
    }
   ],
   "source": [
    "clave_materia"
   ]
  },
  {
   "cell_type": "code",
   "execution_count": 16,
   "metadata": {
    "ExecuteTime": {
     "end_time": "2021-02-06T01:38:03.418447Z",
     "start_time": "2021-02-06T01:38:03.410593Z"
    }
   },
   "outputs": [],
   "source": [
    "with open('ciencias_horarios/semestres/1.json') as archivo:\n",
    "    primer_sem = json.load(archivo)\n",
    "with open('ciencias_horarios/semestres/2.json') as archivo:\n",
    "    segundo_sem = json.load(archivo)\n",
    "with open('ciencias_horarios/semestres/3.json') as archivo:\n",
    "    tercer_sem = json.load(archivo)\n",
    "with open('ciencias_horarios/semestres/4.json') as archivo:\n",
    "    cuarto_sem = json.load(archivo)\n",
    "with open('ciencias_horarios/semestres/5.json') as archivo:\n",
    "    quinto_sem = json.load(archivo)\n",
    "with open('ciencias_horarios/semestres/6.json') as archivo:\n",
    "    sexto_sem = json.load(archivo)\n",
    "with open('ciencias_horarios/semestres/op1.json') as archivo:\n",
    "    optativas_1 = json.load(archivo)\n",
    "with open('ciencias_horarios/semestres/op2.json') as archivo:\n",
    "    optativas_2 = json.load(archivo)\n",
    "with open('ciencias_horarios/semestres/op3.json') as archivo:\n",
    "    optativas_3 = json.load(archivo)"
   ]
  },
  {
   "cell_type": "code",
   "execution_count": 17,
   "metadata": {
    "ExecuteTime": {
     "end_time": "2021-02-06T01:38:03.423990Z",
     "start_time": "2021-02-06T01:38:03.419651Z"
    }
   },
   "outputs": [
    {
     "data": {
      "text/plain": [
       "[(0, ('0014', 'algebra geometrica')),\n",
       " (1, ('0088', 'conjuntos convexos')),\n",
       " (2, ('0271', 'conjuntos y logica')),\n",
       " (3, ('0574', 'diseño de sistemas digitales')),\n",
       " (4, ('0419', 'electromagnetismo i')),\n",
       " (5, ('0302', 'fenomenos colectivos')),\n",
       " (6, ('0250', 'geometria moderna ii')),\n",
       " (7, ('0251', 'geometria proyectiva')),\n",
       " (8, ('0422', 'graficas y juegos')),\n",
       " (9, ('0224', 'introduccion a ciencias de la computacion i')),\n",
       " (10, ('0339', 'introduccion a ciencias de la computacion ii')),\n",
       " (11, ('0272', 'introduccion a la geometria avanzada')),\n",
       " (12, ('0416', 'matematicas discretas')),\n",
       " (13, ('0228', 'mecanica vectorial')),\n",
       " (14, ('0625', 'probabilidad i')),\n",
       " (15, ('0764', 'teoria de los numeros i')),\n",
       " (16, ('0777', 'teoria de los numeros ii'))]"
      ]
     },
     "execution_count": 17,
     "metadata": {},
     "output_type": "execute_result"
    }
   ],
   "source": [
    "list(enumerate(optativas_1.items()))"
   ]
  },
  {
   "cell_type": "code",
   "execution_count": 18,
   "metadata": {
    "ExecuteTime": {
     "end_time": "2021-02-06T01:38:03.428988Z",
     "start_time": "2021-02-06T01:38:03.426093Z"
    }
   },
   "outputs": [
    {
     "data": {
      "text/plain": [
       "'\\nESTO ES PARA VER COMO DEBEN IR LOS NODOS EN LATEX. EN CASO DE PASAR A LATEX\\n\\node[a1] at (1,16) {VisualInfo};\\n\\node[a1] at (4,16) {VisualInfo};\\n\\node[a1] at (5,16) {VisualInfo};\\n\\node[a1] at (4,17) {VisualInfo};\\n\\node[a1] at (5,17) {VisualInfo};\\n'"
      ]
     },
     "execution_count": 18,
     "metadata": {},
     "output_type": "execute_result"
    }
   ],
   "source": [
    "\"\"\"\n",
    "ESTO ES PARA VER COMO DEBEN IR LOS NODOS EN LATEX. EN CASO DE PASAR A LATEX\n",
    "\\node[a1] at (1,16) {VisualInfo};\n",
    "\\node[a1] at (4,16) {VisualInfo};\n",
    "\\node[a1] at (5,16) {VisualInfo};\n",
    "\\node[a1] at (4,17) {VisualInfo};\n",
    "\\node[a1] at (5,17) {VisualInfo};\n",
    "\"\"\""
   ]
  },
  {
   "cell_type": "code",
   "execution_count": 19,
   "metadata": {
    "ExecuteTime": {
     "end_time": "2021-02-06T01:38:03.452437Z",
     "start_time": "2021-02-06T01:38:03.442692Z"
    }
   },
   "outputs": [],
   "source": [
    "def horario_toStr(horario):\n",
    "    latex = \"\"\n",
    "    if horario == False:\n",
    "        print(\"Lo siento, no fue posible crear un horario con estas materias\")\n",
    "    else:\n",
    "        print(\"Creamos el siguiente horario con los siguientes grupos:\\n\")\n",
    "        for materia in horario[1]:\n",
    "            print(\"~~.\"*12,'\\n',\n",
    "                  f\"{clave_to_nombre(materia[0]).capitalize()}\\n\",\n",
    "                  f\"Grupo {materia[1]}\",\n",
    "                  f\"Profesor(a):{grupo_info(materia[1])[1].title()}\")\n",
    "        \n",
    "        print(\"\\n .-.-.-.-.-.-.-.-.-.-. \\n\")\n",
    "        for dia in horario[0]:\n",
    "            print(\"\\n\")\n",
    "            for clase in horario[0][dia]:\n",
    "                \n",
    "                aux = horario[0][dia][clase]\n",
    "                clave_materia, profesor, horas = grupo_info(aux)\n",
    "                if dia == 'lu':\n",
    "                    print(\"Lunes ->\",clase,\"->\",clave_to_nombre(clave_materia))\n",
    "                if dia == 'ma':\n",
    "                    print(\"Martes ->\",clase,\"->\",clave_to_nombre(clave_materia))\n",
    "                if dia == 'mi':\n",
    "                    print(\"Miercoles ->\",clase,\"->\",clave_to_nombre(clave_materia))\n",
    "                if dia == 'ju':\n",
    "                    print(\"Jueves ->\",clase,\"->\",clave_to_nombre(clave_materia))\n",
    "                if dia == 'vi':\n",
    "                    print(\"Viernes ->\",clase,\"->\",clave_to_nombre(clave_materia))\n",
    "                if dia == 'sa':\n",
    "                    print(\"Sabado ->\",clase,\"->\",clave_to_nombre(clave_materia))\n",
    "\n",
    "                    \n",
    "                \n",
    "        \n",
    "\n"
   ]
  },
  {
   "cell_type": "code",
   "execution_count": 20,
   "metadata": {
    "ExecuteTime": {
     "end_time": "2021-02-06T01:38:03.469804Z",
     "start_time": "2021-02-06T01:38:03.465736Z"
    }
   },
   "outputs": [
    {
     "data": {
      "text/plain": [
       "{'0014': 'algebra geometrica',\n",
       " '0088': 'conjuntos convexos',\n",
       " '0271': 'conjuntos y logica',\n",
       " '0574': 'diseño de sistemas digitales',\n",
       " '0419': 'electromagnetismo i',\n",
       " '0302': 'fenomenos colectivos',\n",
       " '0250': 'geometria moderna ii',\n",
       " '0251': 'geometria proyectiva',\n",
       " '0422': 'graficas y juegos',\n",
       " '0224': 'introduccion a ciencias de la computacion i',\n",
       " '0339': 'introduccion a ciencias de la computacion ii',\n",
       " '0272': 'introduccion a la geometria avanzada',\n",
       " '0416': 'matematicas discretas',\n",
       " '0228': 'mecanica vectorial',\n",
       " '0625': 'probabilidad i',\n",
       " '0764': 'teoria de los numeros i',\n",
       " '0777': 'teoria de los numeros ii'}"
      ]
     },
     "execution_count": 20,
     "metadata": {},
     "output_type": "execute_result"
    }
   ],
   "source": [
    "optativas_1"
   ]
  },
  {
   "cell_type": "code",
   "execution_count": 21,
   "metadata": {
    "ExecuteTime": {
     "end_time": "2021-02-06T01:38:03.516457Z",
     "start_time": "2021-02-06T01:38:03.482632Z"
    }
   },
   "outputs": [],
   "source": [
    "def main(inicio,fin):\n",
    "    print(\"Hola este es el súper creador de horarios 9000! \\n\")\n",
    "    \n",
    "    materias_eleccion ={\n",
    "        '1':primer_sem,\n",
    "        '2':segundo_sem,\n",
    "        '3':tercer_sem,\n",
    "        '4':cuarto_sem,\n",
    "        '5':quinto_sem,\n",
    "        '6':sexto_sem,\n",
    "        '7':'7',\n",
    "        '8':'8',\n",
    "    }\n",
    "    lista_deseados = []\n",
    "    \n",
    "    while(True):\n",
    "        if len(lista_deseados)>0:\n",
    "            print('\\nHasta ahora has seleccionado')\n",
    "            for materia in lista_deseados:\n",
    "                try:\n",
    "                    print(clave_to_nombre(materia))\n",
    "                except Exception:\n",
    "                    print(f'Lo sentimos, no se puede armar el horario, pues la optativa {materia} no \\n se abrió este semestre.')\n",
    "                    raise \n",
    "            print(f'Claves: {lista_deseados}')\n",
    "                \n",
    "        print('\\n Elige materias de algún semestre:\\n',\n",
    "         \"\"\"\n",
    "         1 -> Primer Semestre\n",
    "         2 -> Segundo Semestre\n",
    "         3 -> Tercer Semestre\n",
    "         4 -> Cuarto Semestre\n",
    "         5 -> Quinto Semestre\n",
    "         6 -> Sexto Semestre\n",
    "         7 -> Optativas\n",
    "         8 -> Recomendador de optativas\n",
    "         \"\"\")\n",
    "        \n",
    "        eleccion = str(input('\\n Eliga algún número: '))\n",
    "        while(eleccion not in materias_eleccion.keys()):\n",
    "            eleccion = str(input('Esa no es una opción válida, eliga una opción válida: '))\n",
    "        \n",
    "        if eleccion != \"7\" and eleccion != \"8\":\n",
    "            materias_sem = list(enumerate(materias_eleccion[eleccion].items()))\n",
    "            print(f'Las materias del {eleccion}° semestre son:')\n",
    "            \n",
    "            for num, materia in materias_sem:\n",
    "                print(f'{num} -> {materia[1]}')\n",
    "            \n",
    "            print(\"\\nPor favor usa los indices para elegir que deseas cursar: \\n\")\n",
    "            #print(\"Elige las materias que desees tomar, separados por comas\\n\")\n",
    "            elecciones = input(\"Elige las materias que desees tomar, separados por comas: \")\n",
    "            print(\"\\n .-.-.-.-.-.-.-.-.-.-. \\n\")\n",
    "            elecciones = elecciones.split(\",\")\n",
    "            \n",
    "            for num in elecciones:\n",
    "                lista_deseados.append(materias_sem[int(num)][1][0])    \n",
    "            \n",
    "            continuar = str(input('¿Quiere seguir eligiendo materia? [S/N]')).lower()\n",
    "            \n",
    "            while continuar !='s' and continuar !='n':\n",
    "                continuar = str(input('Eliga una opción válida [S/N]')).lower()\n",
    "            if continuar =='n':\n",
    "                break\n",
    "            else: \n",
    "                continue\n",
    "        \n",
    "        \n",
    "        \n",
    "        \n",
    "        if eleccion == '7':\n",
    "            optativas = [optativas_1, optativas_2, optativas_3]\n",
    "            print('Seleccione el nivel de optativas:')\n",
    "            print('''\n",
    "            0 <- Niveles I, II, III, IV\n",
    "            1 <- Niveles V,VI\n",
    "            2 <- Niveles VII,VIII\n",
    "            ''')\n",
    "            opt_eleccion = str(input('Eliga el índice del nivel de optativas: '))\n",
    "            while opt_eleccion not in ('0','1','2'):\n",
    "                opt_eleccion = str(input('Seleccione un índice correcto: '))\n",
    "            \n",
    "            if opt_eleccion =='0':\n",
    "                optativa = list(enumerate(optativas[0].items()))\n",
    "                \n",
    "                for num, materia in list(enumerate(optativas[0].items())):\n",
    "                    print(f'{num} <- {materia[1]}')\n",
    "\n",
    "                print(\"\\nPor favor usa los indices para elegir que deseas cursar: \\n\")\n",
    "                #print(\"Elige las materias que desees tomar, separados por comas\\n\")\n",
    "                elecciones = input(\"Elige las materias que desees tomar, separados por comas: \")\n",
    "                print(\"\\n .-.-.-.-.-.-.-.-.-.-. \\n\")\n",
    "                elecciones = elecciones.split(\",\")\n",
    "\n",
    "                for num in elecciones:\n",
    "                    lista_deseados.append(optativa[int(num)][1][0])    \n",
    "\n",
    "                continuar = str(input('¿Quiere seguir eligiendo materia? [S/N]')).lower()\n",
    "\n",
    "                while continuar !='s' and continuar !='n':\n",
    "                    continuar = str(input('Eliga una opción válida [S/N]')).lower()\n",
    "                if continuar =='n':\n",
    "                    break\n",
    "                else: \n",
    "                    continue       \n",
    "\n",
    "            \n",
    "            if opt_eleccion =='1':\n",
    "                optativa = list(enumerate(optativas[1].items()))\n",
    "                for num, materia in list(enumerate(optativas[1].items())):\n",
    "                    print(f'{num} <- {materia[1]}')\n",
    "\n",
    "                print(\"\\nPor favor usa los indices para elegir que deseas cursar: \\n\")\n",
    "                print(\"Elige las materias que desees tomar, separados por comas\\n\")\n",
    "                elecciones = input(\"Elige las materias que desees tomar, separados por comas: \")\n",
    "                print(\"\\n .-.-.-.-.-.-.-.-.-.-. \\n\")\n",
    "                elecciones = elecciones.split(\",\")\n",
    "\n",
    "                for num in elecciones:\n",
    "                    lista_deseados.append(optativa[int(num)][1][0])    \n",
    "\n",
    "                continuar = str(input('¿Quiere seguir eligiendo materia? [S/N]')).lower()\n",
    "\n",
    "                while continuar !='s' and continuar !='n':\n",
    "                    continuar = str(input('Eliga una opción válida [S/N]')).lower()\n",
    "                if continuar =='n':\n",
    "                    break\n",
    "                else: \n",
    "                    continue       \n",
    "\n",
    "\n",
    "            if opt_eleccion =='2':\n",
    "                optativa = list(enumerate(optativas[2].items()))                \n",
    "                for num, materia in list(enumerate(optativas[2].items())):\n",
    "                    print(f'{num} <- {materia[1]}')\n",
    "\n",
    "                print(\"\\nPor favor usa los indices para elegir que deseas cursar: \\n\")\n",
    "                print(\"Elige las materias que desees tomar, separados por comas\\n\")\n",
    "                elecciones = input(\"Elige las materias que desees tomar, separados por comas: \")\n",
    "                print(\"\\n .-.-.-.-.-.-.-.-.-.-. \\n\")\n",
    "                elecciones = elecciones.split(\",\")\n",
    "\n",
    "                for num in elecciones:\n",
    "                    lista_deseados.append(optativa[int(num)][1][0])    \n",
    "\n",
    "                continuar = str(input('¿Quiere seguir eligiendo materia? [S/N]')).lower()\n",
    "\n",
    "                while continuar !='s' and continuar !='n':\n",
    "                    continuar = str(input('Eliga una opción válida [S/N]')).lower()\n",
    "                if continuar =='n':\n",
    "                    break\n",
    "                else: \n",
    "                    continue       \n",
    "\n",
    "    \n",
    "        if eleccion =='8':\n",
    "\n",
    "            interes = str(input('Escibe algunos intereses que tengas: '))\n",
    "            print(\"Buscaremos horarios para estos intereses: \\n\" + interes)\n",
    "            recomendaciones = get_recomendations_str(interes)\n",
    "\n",
    "            print(\"\\n .-.-.-.-.-.-.-.-.-.-. \\n\")\n",
    "            print(\"El algoritmo suguiere las siguientes materias para ti: \\n\")\n",
    "            claves_materias = []\n",
    "            i = 0\n",
    "            for recomendacion in recomendaciones:\n",
    "                print(i,\"->\",recomendacion[0])\n",
    "                claves_materias.append(recomendacion[1])\n",
    "                i += 1\n",
    "\n",
    "            print(\"\\nPor favor usa los indices para elegir que deseas cursar: \\n\")\n",
    "            print(\"Elige las materias que desees tomar, separados por comas\\n\")\n",
    "            elecciones = input(\"Elige las materias que desees tomar, separados por comas: \")\n",
    "            print(\"\\n .-.-.-.-.-.-.-.-.-.-. \\n\")\n",
    "\n",
    "\n",
    "            elecciones = elecciones.split(\",\")\n",
    "            for num in elecciones:\n",
    "                lista_deseados.append(claves_materias[int(num)])\n",
    "                print(\"Elegiste las siguientes opciones:\",num)\n",
    "\n",
    "            continuar = str(input('¿Quiere seguir eligiendo materia? [S/N]')).lower()\n",
    "\n",
    "            while continuar !='s' and continuar !='n':\n",
    "                continuar = str(input('Eliga una opción válida [S/N]')).lower()\n",
    "            if continuar =='n':\n",
    "                break\n",
    "            else: \n",
    "                continue     \n",
    "    \n",
    "    \n",
    "    \n",
    "    if len(lista_deseados)>0:\n",
    "        print('\\nHasta ahora has seleccionado')\n",
    "        for materia in lista_deseados:\n",
    "            try:\n",
    "                print(clave_to_nombre(materia))\n",
    "            except Exception:\n",
    "                print(f'Lo sentimos, no se puede armar el horario, pues la optativa {materia} no \\n se abrió este semestre.')\n",
    "                raise \n",
    "        print(f'Claves: {lista_deseados}')\n",
    "        \n",
    "    print(\"\\n .-.-.-.-.-.-.-.-.-.-. \\n\")\n",
    "    print(\"Crearemos un horario en el que entres a las:\",inicio,\"y salgas a las:\",fin,\" \\n\")\n",
    "    horario = crear_horario(lista_deseados,inicio,fin)\n",
    "    \n",
    "    horario_toStr(horario)\n",
    "    \n",
    "\n",
    "\n"
   ]
  },
  {
   "cell_type": "code",
   "execution_count": 22,
   "metadata": {
    "ExecuteTime": {
     "end_time": "2021-02-06T01:38:34.535736Z",
     "start_time": "2021-02-06T01:38:03.532327Z"
    }
   },
   "outputs": [
    {
     "name": "stdout",
     "output_type": "stream",
     "text": [
      "Hola este es el súper creador de horarios 9000! \n",
      "\n",
      "\n",
      " Elige materias de algún semestre:\n",
      " \n",
      "         1 -> Primer Semestre\n",
      "         2 -> Segundo Semestre\n",
      "         3 -> Tercer Semestre\n",
      "         4 -> Cuarto Semestre\n",
      "         5 -> Quinto Semestre\n",
      "         6 -> Sexto Semestre\n",
      "         7 -> Optativas\n",
      "         8 -> Recomendador de optativas\n",
      "         \n",
      "\n",
      " Eliga algún número: 1\n",
      "Las materias del 1° semestre son:\n",
      "0 -> algebra superior i\n",
      "1 -> calculo diferencial e integral i\n",
      "2 -> geometria analitica i\n",
      "3 -> geometria moderna i\n",
      "\n",
      "Por favor usa los indices para elegir que deseas cursar: \n",
      "\n",
      "Elige las materias que desees tomar, separados por comas: 0,1\n",
      "\n",
      " .-.-.-.-.-.-.-.-.-.-. \n",
      "\n",
      "¿Quiere seguir eligiendo materia? [S/N]s\n",
      "Hasta ahora has seleccionado\n",
      "algebra superior i\n",
      "calculo diferencial e integral i\n",
      "Claves: ['0007', '0091']\n",
      "\n",
      " Elige materias de algún semestre:\n",
      " \n",
      "         1 -> Primer Semestre\n",
      "         2 -> Segundo Semestre\n",
      "         3 -> Tercer Semestre\n",
      "         4 -> Cuarto Semestre\n",
      "         5 -> Quinto Semestre\n",
      "         6 -> Sexto Semestre\n",
      "         7 -> Optativas\n",
      "         8 -> Recomendador de optativas\n",
      "         \n",
      "\n",
      " Eliga algún número: 8\n",
      "Escibe algunos intereses que tengas: teorema limite central\n",
      "Buscaremos horarios para estos intereses: \n",
      "teorema limite central\n",
      "\n",
      " .-.-.-.-.-.-.-.-.-.-. \n",
      "\n",
      "El algoritmo suguiere las siguientes materias para ti: \n",
      "\n",
      "0 -> probabilidad i\n",
      "1 -> calculo diferencial e integral i\n",
      "2 -> ecuaciones diferenciales iii\n",
      "3 -> geometria moderna i\n",
      "4 -> procesos estocasticos ii\n",
      "5 -> sistemas dinamicos discretos i\n",
      "6 -> variable compleja i\n",
      "7 -> geometria diferencial i\n",
      "8 -> calculo diferencial e integral ii\n",
      "\n",
      "Por favor usa los indices para elegir que deseas cursar: \n",
      "\n",
      "Elige las materias que desees tomar, separados por comas\n",
      "\n",
      "Elige las materias que desees tomar, separados por comas: 0\n",
      "\n",
      " .-.-.-.-.-.-.-.-.-.-. \n",
      "\n",
      "Elegiste las siguientes opciones: 0\n",
      "¿Quiere seguir eligiendo materia? [S/N]n\n",
      "\n",
      " .-.-.-.-.-.-.-.-.-.-. \n",
      "\n",
      "Crearemos un horario en el que entres a las: 8 y salgas a las: 20  \n",
      "\n",
      "Creamos el siguiente horario con los siguientes grupos:\n",
      "\n",
      "~~.~~.~~.~~.~~.~~.~~.~~.~~.~~.~~.~~. \n",
      " Calculo diferencial e integral i\n",
      " Grupo 4040 Profesor(a):Kenya Veronica Espinosa Hurtado\n",
      "~~.~~.~~.~~.~~.~~.~~.~~.~~.~~.~~.~~. \n",
      " Algebra superior i\n",
      " Grupo 4005 Profesor(a):Francisco Larrion Riveroll\n",
      "~~.~~.~~.~~.~~.~~.~~.~~.~~.~~.~~.~~. \n",
      " Probabilidad i\n",
      " Grupo 9024 Profesor(a):Maria Asuncion BegoñA Fernandez Fernandez\n",
      "\n",
      " .-.-.-.-.-.-.-.-.-.-. \n",
      "\n",
      "\n",
      "\n",
      "Lunes -> (17.0, 19.0) -> calculo diferencial e integral i\n",
      "Lunes -> (9.0, 10.0) -> algebra superior i\n",
      "Lunes -> (14.0, 15.0) -> probabilidad i\n",
      "\n",
      "\n",
      "Martes -> (17.0, 18.0) -> calculo diferencial e integral i\n",
      "Martes -> (9.0, 10.0) -> algebra superior i\n",
      "Martes -> (14.0, 15.0) -> probabilidad i\n",
      "\n",
      "\n",
      "Miercoles -> (17.0, 19.0) -> calculo diferencial e integral i\n",
      "Miercoles -> (9.0, 10.0) -> algebra superior i\n",
      "Miercoles -> (14.0, 15.0) -> probabilidad i\n",
      "\n",
      "\n",
      "Jueves -> (17.0, 18.0) -> calculo diferencial e integral i\n",
      "Jueves -> (9.0, 10.0) -> algebra superior i\n",
      "Jueves -> (14.0, 15.0) -> probabilidad i\n",
      "\n",
      "\n",
      "Viernes -> (17.0, 19.0) -> calculo diferencial e integral i\n",
      "Viernes -> (9.0, 10.0) -> algebra superior i\n",
      "Viernes -> (14.0, 15.0) -> probabilidad i\n",
      "\n",
      "\n",
      "Sabado -> (7.0, 8.0) -> calculo diferencial e integral i\n"
     ]
    }
   ],
   "source": [
    "main(8,20)"
   ]
  },
  {
   "cell_type": "code",
   "execution_count": 24,
   "metadata": {
    "ExecuteTime": {
     "end_time": "2021-02-06T04:37:07.057138Z",
     "start_time": "2021-02-06T04:37:07.051799Z"
    }
   },
   "outputs": [],
   "source": [
    "#main(7,13)"
   ]
  },
  {
   "cell_type": "markdown",
   "metadata": {},
   "source": [
    "Prueba de tiempo:"
   ]
  },
  {
   "cell_type": "code",
   "execution_count": null,
   "metadata": {
    "ExecuteTime": {
     "start_time": "2021-02-06T04:50:42.082Z"
    }
   },
   "outputs": [],
   "source": [
    "import time\n",
    "import matplotlib.pyplot as plt\n",
    "\n",
    "tiempos = []\n",
    "materias_num = [2,3,4,5,6,7,8,9,10,11,12]\n",
    "for mat_num in materias_num:\n",
    "    start = time.time()\n",
    "    j = 0\n",
    "    for i in range(100):\n",
    "\n",
    "        try:\n",
    "            \n",
    "            sample = random.sample(dict_materias.keys(),mat_num)\n",
    "            crear_horario(sample,8,17)\n",
    "            j += 1\n",
    "        except Exception as e:\n",
    "            print(e)\n",
    "    tiempos.append((time.time()-start)/j)\n",
    "\n",
    "for i in range(len(tiempos)):\n",
    "    print(f'Número de materias: {materias_num[i]}, Tiempo promedio: {tiempos[i]}')"
   ]
  },
  {
   "cell_type": "code",
   "execution_count": null,
   "metadata": {
    "ExecuteTime": {
     "start_time": "2021-02-06T04:51:59.446Z"
    }
   },
   "outputs": [],
   "source": [
    "plt.plot(materias_num,tiempos)"
   ]
  },
  {
   "cell_type": "code",
   "execution_count": null,
   "metadata": {},
   "outputs": [],
   "source": []
  },
  {
   "cell_type": "code",
   "execution_count": null,
   "metadata": {},
   "outputs": [],
   "source": []
  }
 ],
 "metadata": {
  "hide_input": false,
  "kernelspec": {
   "display_name": "Python 3",
   "language": "python",
   "name": "python3"
  },
  "language_info": {
   "codemirror_mode": {
    "name": "ipython",
    "version": 3
   },
   "file_extension": ".py",
   "mimetype": "text/x-python",
   "name": "python",
   "nbconvert_exporter": "python",
   "pygments_lexer": "ipython3",
   "version": "3.8.3"
  },
  "varInspector": {
   "cols": {
    "lenName": 16,
    "lenType": 16,
    "lenVar": 40
   },
   "kernels_config": {
    "python": {
     "delete_cmd_postfix": "",
     "delete_cmd_prefix": "del ",
     "library": "var_list.py",
     "varRefreshCmd": "print(var_dic_list())"
    },
    "r": {
     "delete_cmd_postfix": ") ",
     "delete_cmd_prefix": "rm(",
     "library": "var_list.r",
     "varRefreshCmd": "cat(var_dic_list()) "
    }
   },
   "types_to_exclude": [
    "module",
    "function",
    "builtin_function_or_method",
    "instance",
    "_Feature"
   ],
   "window_display": false
  }
 },
 "nbformat": 4,
 "nbformat_minor": 4
}
