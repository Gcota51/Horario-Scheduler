{
 "cells": [
  {
   "cell_type": "code",
   "execution_count": 7,
   "metadata": {},
   "outputs": [],
   "source": [
    "import json\n",
    "import random\n",
    "from numpy import linspace\n",
    "import itertools\n",
    "\n",
    "with open('ciencias_horarios/materias_limpio.json') as archivo:\n",
    "    materias_limpio = json.load(archivo)"
   ]
  },
  {
   "cell_type": "markdown",
   "metadata": {},
   "source": [
    "Hacemos la clase de materia, donde cada objeto representará una materia y contendrá información acerca de sus grupos, horarios y profesores"
   ]
  },
  {
   "cell_type": "code",
   "execution_count": 8,
   "metadata": {},
   "outputs": [],
   "source": [
    "class materia():\n",
    "    '''\n",
    "    Clase que contendrá la información de una materia\n",
    "    '''\n",
    "    def __init__(self, clave,materia):\n",
    "        '''\n",
    "        Función de inicialización que creará el diccionario con los \n",
    "        grupos de la materia, y un diccionario cuyas llaves serán los días\n",
    "        de la semana y a su vez cada una contendrá un diccionario con las\n",
    "        horas y los grupos que imparten la materia en cada hora.\n",
    "        -------------------------------------------------------------------\n",
    "        :param clave str: Cadena de cuatro dígitos que contiene la clave\n",
    "                         de la materia\n",
    "        :param materia str: Cadena con el nombre de la materia\n",
    "        '''\n",
    "        self.grupos = {}\n",
    "        self.clave = clave\n",
    "        self.nombre = materia\n",
    "        self.horarios = {\n",
    "            'lu':{},\n",
    "            'ma':{},\n",
    "            'mi':{},\n",
    "            'ju':{},\n",
    "            'vi':{},\n",
    "            'sa':{}\n",
    "        }\n",
    "        \n",
    "    def agregar_grupo(self,grupo,profesor,horario):\n",
    "        '''\n",
    "        Función de agregació  de grupos a la clase. Agregará\n",
    "        el grupo al diccionario `grupos` así como actualización\n",
    "        del diccionario de horarios.\n",
    "        -----------------------------------------\n",
    "        :param grupo str: Cadena de 4 dígitos con el número de grupo.\n",
    "        :param profesor str: Nombre del docente del grupo.\n",
    "        :param horario dict: Diccionario que incluye el horario por día\n",
    "        '''\n",
    "        for dia in horario.keys():\n",
    "            #print(horario[dia])\n",
    "            if horario[dia] !=[]:\n",
    "                hora_dia = tuple(horario[dia][0])\n",
    "\n",
    "                if hora_dia not in list(self.horarios[dia].keys()):\n",
    "\n",
    "                    self.horarios[dia][hora_dia] = []\n",
    "                self.horarios[dia][hora_dia].append(grupo)\n",
    "\n",
    "        self.grupos[grupo] = [profesor,horario]"
   ]
  },
  {
   "cell_type": "markdown",
   "metadata": {},
   "source": [
    "Y guardamos cada materia como un objeto de la clase:"
   ]
  },
  {
   "cell_type": "code",
   "execution_count": 9,
   "metadata": {},
   "outputs": [],
   "source": [
    "dict_materias = {}\n",
    "claves = []\n",
    "grupos_claves = {}\n",
    "for materia_limpio in materias_limpio:\n",
    "    clave = materia_limpio['clave']\n",
    "    if clave not in claves:\n",
    "        claves.append(clave)\n",
    "        asignatura = materia_limpio['materia']\n",
    "        mat = materia(clave,asignatura)\n",
    "        dict_materias[clave] = mat\n",
    "    \n",
    "    grupo = materia_limpio['grupo']\n",
    "    profesor = materia_limpio['profesor']\n",
    "    horario = materia_limpio['horario']\n",
    "    grupos_claves[grupo] = clave\n",
    "    dict_materias[clave].agregar_grupo(grupo,profesor,horario)"
   ]
  },
  {
   "cell_type": "markdown",
   "metadata": {},
   "source": [
    "Algunas funciones para pasar de claves a nombres y grupos, así como otras funciones útiles"
   ]
  },
  {
   "cell_type": "code",
   "execution_count": 10,
   "metadata": {},
   "outputs": [],
   "source": [
    "def str_to_clave(clave):\n",
    "    '''\n",
    "    Función que convierte un entero a una clave \n",
    "    en cadena de texto 4 dígitos\n",
    "    '''\n",
    "    clave_str = str(clave)\n",
    "    clave_str = '0'*(4-len(clave_str))+clave_str\n",
    "    return clave_str\n",
    "    \n",
    "def clave_to_nombre(clave):\n",
    "    '''\n",
    "    Dada una clave , regresa el nombre de la asignatura\n",
    "    '''\n",
    "    if isinstance(clave, int):\n",
    "        clave_str = str_to_clave(clave)\n",
    "        return dict_materias[clave_str].nombre \n",
    "        \n",
    "    return dict_materias[clave].nombre\n",
    "\n",
    "\n",
    "def get_horario(clave,hora_inicio,dia):\n",
    "    '''\n",
    "    Dada una clave, regresa todos los grupos que comiencen a \n",
    "    la hora dada.\n",
    "    \n",
    "    :param clave str: Cadena de 4 dígitos que indica la materia\n",
    "    :param hora_inicio float: Hora a la que inicia la clase\n",
    "    :para dia str: Cadena de dos letras que indica el día del horario.\n",
    "    \n",
    "    :returns False: En caso de que no haya algún grupo en ese horario\n",
    "    :returns (horario_inicio,horario_fin), grupos:\n",
    "                    Regresa una tupla con inicio y fin de la materio junto\n",
    "                    a sus grupos.\n",
    "    '''\n",
    "    materia = dict_materias[clave]\n",
    "    for horario in materia.horarios[dia].keys():\n",
    "        if hora_inicio == horario[0]:\n",
    "            return horario, materia.horarios[dia][horario]\n",
    "    return False\n",
    "\n",
    "def grupo_to_clave(grupo):\n",
    "    '''\n",
    "    Regresa a qué materia pertenece un grupo específico\n",
    "    -----------------------------------------------------\n",
    "    :param grupo str: Cadena de 4 dígitos de un grupo\n",
    "    \n",
    "    :returns str: Cadena de 4 dígitos que representa la materia \n",
    "    '''\n",
    "    return grupos_claves[grupo]\n"
   ]
  },
  {
   "cell_type": "markdown",
   "metadata": {},
   "source": [
    "La siguiente función nos permite obtener toda la información de una materia con solo el código de grupo"
   ]
  },
  {
   "cell_type": "code",
   "execution_count": 17,
   "metadata": {},
   "outputs": [
    {
     "data": {
      "text/plain": [
       "('0005',\n",
       " 'alejandro alvarado garcia',\n",
       " {'lu': (10.0, 11.0),\n",
       "  'ma': (10.0, 11.0),\n",
       "  'mi': (10.0, 11.0),\n",
       "  'ju': (10.0, 11.0),\n",
       "  'vi': (10.0, 11.0)})"
      ]
     },
     "execution_count": 17,
     "metadata": {},
     "output_type": "execute_result"
    }
   ],
   "source": [
    "\n",
    "def grupo_info(grupo):\n",
    "    '''\n",
    "    Da la información de un grupo\n",
    "    --------------------------------------\n",
    "    :param grupo str: Cadena de 4 dígitos de un grupo\n",
    "    \n",
    "    :returns: Profesor, Horario de la materia\n",
    "    '''\n",
    "    clave = grupo_to_clave(grupo)\n",
    "    grupo = dict_materias[clave].grupos[grupo]\n",
    "    profesor , horario = grupo\n",
    "    horario = {dia:tuple(horario[dia][0]) for dia in horario.keys() if horario[dia] !=[]}\n",
    "    return clave, profesor, horario\n",
    "\n",
    "grupo_info('4117')"
   ]
  },
  {
   "cell_type": "markdown",
   "metadata": {},
   "source": [
    "## Recomendador de horarios"
   ]
  },
  {
   "cell_type": "markdown",
   "metadata": {},
   "source": [
    "La siguiente función crea candidatos entre la hora de inicio y fin de un día:"
   ]
  },
  {
   "cell_type": "code",
   "execution_count": 12,
   "metadata": {},
   "outputs": [
    {
     "data": {
      "text/plain": [
       "({(10.0, 11.0): ['4212', '4213'], (9.0, 10.0): ['4214', '4214']},\n",
       " [(9.0, 10.0), (10.0, 11.0)],\n",
       " {'0002': ['4212', '4213'],\n",
       "  '0003': ['4214', '4214'],\n",
       "  '0083': [],\n",
       "  '0163': [],\n",
       "  '0715': []})"
      ]
     },
     "execution_count": 12,
     "metadata": {},
     "output_type": "execute_result"
    }
   ],
   "source": [
    "def generar_candidatos(claves,hora_inicio,hora_fin,dia):\n",
    "    '''\n",
    "    Para las claves e información sobre hora y día, regresa un diccionario con\n",
    "    los grupos disponibles para esas materias en esas restricciones, es decir\n",
    "    un diccionario cuyas llaves son intervalos de horas y sus valores los grupos\n",
    "    que tienen clase a esa hora en ese día, eligiendo intervalos de horas entre\n",
    "    la hora de inicio y fin establecidas.\n",
    "    -------------------------------------------------\n",
    "    :param claves [str]: Lista con las claves de materias a recuperar\n",
    "    :hora_inicio float: Hora a la que inicia el horario debe ser entero o\n",
    "                        un entero y medio (e.g 9.0 y 9.50 son válidos, mientras que\n",
    "                        6:35 no es una hora válida) el 0.5 representa la media\n",
    "                        hora.\n",
    "    :hora_fin float: Hora máxima a la que termina el horario\n",
    "    \n",
    "    :returns horario_dia dict: Diccionario que tiene como llaves las horas que tienen candidatos,\n",
    "                                con los candidatos a dicha hora\n",
    "    :returns horas_disponibles list: Lista con los intervalos de horas que se consideran para los \n",
    "                                candidatos, es decir cada grupo candidato imparte su clase en alguna\n",
    "                                hora de esta lista.\n",
    "    :returns grupos_por_clave dict: Diccionario que tiene como llaves las claves de las materias y\n",
    "                                como valores, los grupos candidatos que se encontraron para cada\n",
    "                                materia\n",
    "    '''\n",
    "    if hora_inicio%0.5 != 0 or hora_fin%0.5 != 0:\n",
    "        raise Exception('Ese no es un horario válido, tiene que representar una hora o \\n fracción de media hora')\n",
    "        \n",
    "    \n",
    "        \n",
    "    horario_dia = {}\n",
    "    horas_disponibles = set()\n",
    "    grupos_por_clave = {}\n",
    "    #Un intervalo de las horas representadas en fracciones de media hora\n",
    "    horas_eleccion =  linspace(hora_inicio,hora_fin,int(2*(hora_fin-hora_inicio)+1))\n",
    "    \n",
    "    #for dia in dias.keys():\n",
    "    for clave in claves:\n",
    "        grupos_por_clave[clave] = []\n",
    "        for hora in horas_eleccion:\n",
    "            horario = get_horario(clave,hora,dia)\n",
    "\n",
    "            if horario is False: #si no hay grupos disponibles a esa hora\n",
    "                continue\n",
    "            if horario[0][1]>hora_fin: #Si el horario se pasa de la hora establecida\n",
    "                continue\n",
    "\n",
    "            hora_de_clase = horario[0]\n",
    "            grupos = horario[1]\n",
    "            if hora_de_clase not in horario_dia.keys():\n",
    "                horario_dia[hora_de_clase] = []\n",
    "                \n",
    "            horas_disponibles.add(hora_de_clase)\n",
    "            horario_dia[hora_de_clase] += grupos\n",
    "            grupos_por_clave[clave] += grupos\n",
    "    \n",
    "    return horario_dia,list(horas_disponibles), grupos_por_clave\n",
    "\n",
    "candidatos = generar_candidatos(['0002','0003','0083','0163','0715'],8.0,12,'lu')\n",
    "candidatos"
   ]
  },
  {
   "cell_type": "markdown",
   "metadata": {},
   "source": [
    "Y a continuación la función para recomendar candidatos no solo para un día, sino para toda la semana:"
   ]
  },
  {
   "cell_type": "code",
   "execution_count": 20,
   "metadata": {},
   "outputs": [
    {
     "data": {
      "text/plain": [
       "({'lu': {(10.0, 11.0): ['4212', '4213'], (9.0, 10.0): ['4175', '4176']},\n",
       "  'ma': {(10.0, 11.0): ['4212', '4213'], (9.0, 10.0): ['4175', '4176']},\n",
       "  'mi': {(10.0, 11.0): ['4212', '4213'], (9.0, 10.0): ['4175', '4176']},\n",
       "  'ju': {(10.0, 11.0): ['4212', '4213'], (9.0, 10.0): ['4175', '4176']},\n",
       "  'vi': {(10.0, 11.0): ['4212', '4213'], (9.0, 10.0): ['4175', '4176']},\n",
       "  'sa': {}},\n",
       " {'lu': [(9.0, 10.0), (10.0, 11.0)],\n",
       "  'ma': [(9.0, 10.0), (10.0, 11.0)],\n",
       "  'mi': [(9.0, 10.0), (10.0, 11.0)],\n",
       "  'ju': [(9.0, 10.0), (10.0, 11.0)],\n",
       "  'vi': [(9.0, 10.0), (10.0, 11.0)],\n",
       "  'sa': []},\n",
       " {'0002': ['4212', '4213'], '0001': ['4175', '4176'], '0715': []})"
      ]
     },
     "execution_count": 20,
     "metadata": {},
     "output_type": "execute_result"
    }
   ],
   "source": [
    "def generar_candidatos_semana(claves, hora_inicio, hora_fin):\n",
    "    '''\n",
    "    Función que da información acerca de los grupos que imparten clase\n",
    "    entre dos horas establecidas.\n",
    "    ---------------------------------------------------------------\n",
    "    :param claves [str]: Lista con las claves de las materias a acomodar\n",
    "    :param hora_inicio float: Hora a la que inicia el horario debe ser entero o\n",
    "                        un entero y medio (e.g 9.0 y 9.50 son válidos, mientras que\n",
    "                        6:35 no es una hora válida) el 0.5 representa la media\n",
    "                        hora.\n",
    "    :param hora_fin float: Hora máxima a la que termina el horario\n",
    "    \n",
    "    \n",
    "    :returns horario_por_dia dict: Diccionario que tiene como llaves los días que tienen candidatos,\n",
    "                                con los candidatos por intervalo de hora\n",
    "    :returns horas_disponibles dict: Diccionario con los días e intervalos de horas que se consideran para los \n",
    "                                candidatos, es decir cada grupo candidato imparte su clase en alguna\n",
    "                                hora de este diccionario.\n",
    "    :returns grupos_por_clave dict: Diccionario que tiene como llaves las claves de las materias y\n",
    "                                como valores, los grupos candidatos que se encontraron para cada\n",
    "                                materia\n",
    "    '''\n",
    "    dias = ['lu','ma','mi','ju','vi','sa']\n",
    "    \n",
    "    horario_por_dia = {}\n",
    "    horas_disponibles_por_dia = {}\n",
    "    grupos_por_clave = {}\n",
    "    for dia in dias:\n",
    "        candidatos_dia = generar_candidatos(claves,hora_inicio,hora_fin,dia)\n",
    "        horario_por_dia[dia] = candidatos_dia[0]\n",
    "        horas_disponibles_por_dia[dia] = candidatos_dia[1]\n",
    "        for intervalo in candidatos_dia[2].keys():\n",
    "            if intervalo not in grupos_por_clave.keys():\n",
    "                grupos_por_clave[intervalo] = []\n",
    "            grupos_por_clave[intervalo]+= candidatos_dia[2][intervalo]\n",
    "    \n",
    "    grupos_por_clave = {intervalo:list(set(grupos_por_clave[intervalo]))\n",
    "                       for intervalo in grupos_por_clave.keys()}\n",
    "    return horario_por_dia, horas_disponibles_por_dia, grupos_por_clave\n",
    "\n",
    "candidatos = generar_candidatos_semana(['0002','0001','0715'],8.0,11)\n",
    "candidatos"
   ]
  },
  {
   "cell_type": "markdown",
   "metadata": {},
   "source": [
    "A continuación se definen funciones para acomodar horarios en las que se verifica si un intervalo de tiempo interfiere con un horario establecido para un día, después lo mismo pero intervalos de tiempo en una semana, y finalmente una función que compara los horarios a las que se imparten materias una lista de grupos y verifica si alguna se intersecta con algún otro grupo"
   ]
  },
  {
   "cell_type": "code",
   "execution_count": 22,
   "metadata": {},
   "outputs": [
    {
     "data": {
      "text/plain": [
       "False"
      ]
     },
     "execution_count": 22,
     "metadata": {},
     "output_type": "execute_result"
    }
   ],
   "source": [
    "def se_intersecta(intervalo,horario_dia):\n",
    "    '''\n",
    "    Dado un intervalo de tiempo y un horario, checa si alguna\n",
    "    clase del horario se intersecta con el intervalo.\n",
    "    \n",
    "    :param intervalo tuple: Intervalo de tiempo a verificar\n",
    "    :param hoarario dict: Diccionario que tiene como llaves días de la semana\n",
    "                        y horas a las que se imparten materias desglosadas por\n",
    "                        hora. Ejem:\n",
    "            {'lu': {(10.0, 11.0): ['4212', '4213'], (9.0, 10.0): ['4175', '4176']},\n",
    "              'ma': {(10.0, 11.0): ['4212', '4213'], (9.0, 10.0): ['4175', '4176']},\n",
    "              'mi': {(10.0, 11.0): ['4212', '4213'], (9.0, 10.0): ['4175', '4176']},\n",
    "              'ju': {(10.0, 11.0): ['4212', '4213'], (9.0, 10.0): ['4175', '4176']},\n",
    "              'vi': {(10.0, 11.0): ['4212', '4213'], (9.0, 10.0): ['4175', '4176']},\n",
    "              'sa': {}}\n",
    "    \n",
    "    :returns Bool: Verdadero si se intersectan, falso en otro caso.\n",
    "    '''\n",
    "    horario_lista = sorted(list(horario_dia.keys()),key= lambda x:x[1])\n",
    "    inicio = intervalo[0]\n",
    "    fin = intervalo[1]\n",
    "    for hora in horario_lista:\n",
    "        hora_inicio = hora[0]\n",
    "        hora_fin = hora[1]\n",
    "        if hora_inicio <= inicio < hora_fin or hora_inicio < fin <= hora_fin:\n",
    "            return True\n",
    "    return False\n",
    "\n",
    "def se_intersecta_semana(intervalos,horario):\n",
    "    '''\n",
    "    Dado un horario de materia por día y un horario, checa si alguna\n",
    "    clase del horario se intersecta con la materia.\n",
    "    -----------------------------------------------------------------\n",
    "    :param intervalo tuple: Horario de un grupo a verificar.\n",
    "                               Ejem: {'lu': (10.0, 11.0),\n",
    "                                      'ma': (10.0, 11.0),\n",
    "                                      'mi': (10.0, 11.0),\n",
    "                                      'ju': (10.0, 11.0),\n",
    "                                      'vi': (10.0, 11.0)}\n",
    "    :param hoarario dict: Diccionario que tiene como llaves días de la semana\n",
    "                        y horas a las que se imparten materias desglosadas por\n",
    "                        hora. Ejem:\n",
    "            {'lu': {(10.0, 11.0): ['4212', '4213'], (9.0, 10.0): ['4175', '4176']},\n",
    "              'ma': {(10.0, 11.0): ['4212', '4213'], (9.0, 10.0): ['4175', '4176']},\n",
    "              'mi': {(10.0, 11.0): ['4212', '4213'], (9.0, 10.0): ['4175', '4176']},\n",
    "              'ju': {(10.0, 11.0): ['4212', '4213'], (9.0, 10.0): ['4175', '4176']},\n",
    "              'vi': {(10.0, 11.0): ['4212', '4213'], (9.0, 10.0): ['4175', '4176']},\n",
    "              'sa': {}}\n",
    "    \n",
    "    :returns Bool: Verdadero si se intersectan, falso en otro caso.\n",
    "    '''\n",
    "    dias = ['lu','ma','mi','ju','vi','sa']\n",
    "    for dia in horario.keys():\n",
    "        if dia in intervalos.keys():\n",
    "            horario_dia = horario[dia]\n",
    "            if se_intersecta(intervalos[dia],horario_dia):\n",
    "                return True\n",
    "    return False\n",
    "\n",
    "prueba_dias = candidatos[0]\n",
    "horario_prueba = grupo_info('4174')[2]\n",
    "se_intersecta_semana(horario_prueba,prueba_dias)"
   ]
  },
  {
   "cell_type": "code",
   "execution_count": 23,
   "metadata": {},
   "outputs": [
    {
     "data": {
      "text/plain": [
       "(False,\n",
       " {'lu': {(15.0, 16.0): '4171', (19.0, 20.0): '4172'},\n",
       "  'ma': {(15.0, 16.0): '4171', (19.0, 20.0): '4172'},\n",
       "  'mi': {(15.0, 16.0): '4171', (19.0, 20.0): '4172'},\n",
       "  'ju': {(15.0, 16.0): '4171', (19.0, 20.0): '4172'},\n",
       "  'vi': {(15.0, 16.0): '4171', (19.0, 20.0): '4172'},\n",
       "  'sa': {}})"
      ]
     },
     "execution_count": 23,
     "metadata": {},
     "output_type": "execute_result"
    }
   ],
   "source": [
    "def conjunto_se_intersecta(grupos):\n",
    "    '''\n",
    "    Dado un conjunto de grupos, comprueba si los horarios\n",
    "    de los grupos se intersectan\n",
    "    -------------------------------------------------\n",
    "    :param grupos [str]: Lista de grupos\n",
    "    \n",
    "    :return Bool: Indicador de si los conjuntos se intersectan o no.\n",
    "    :returns Horario: Horario desglosado por día y hora\n",
    "    '''\n",
    "    dias = ['lu','ma','mi','ju','vi','sa']\n",
    "    primer_horario = grupo_info(grupos[0])[2]\n",
    "    horario = {dia:{} for dia in dias}\n",
    "    \n",
    "    for dia, hora in primer_horario.items():\n",
    "        horario[dia][hora] = grupos[0]\n",
    "    \n",
    "    for grupo in grupos[1:]:\n",
    "        horario_materia = grupo_info(grupo)[2]\n",
    "        if se_intersecta_semana(horario_materia,horario):\n",
    "            return True, horario\n",
    "        for dia, hora in horario_materia.items():\n",
    "            horario[dia][hora] = grupo\n",
    "\n",
    "    return False, horario\n",
    "conjunto_se_intersecta(['4171','4172'])"
   ]
  },
  {
   "cell_type": "code",
   "execution_count": null,
   "metadata": {},
   "outputs": [],
   "source": []
  },
  {
   "cell_type": "code",
   "execution_count": null,
   "metadata": {},
   "outputs": [],
   "source": []
  }
 ],
 "metadata": {
  "kernelspec": {
   "display_name": "Python 3",
   "language": "python",
   "name": "python3"
  },
  "language_info": {
   "codemirror_mode": {
    "name": "ipython",
    "version": 3
   },
   "file_extension": ".py",
   "mimetype": "text/x-python",
   "name": "python",
   "nbconvert_exporter": "python",
   "pygments_lexer": "ipython3",
   "version": "3.8.3"
  }
 },
 "nbformat": 4,
 "nbformat_minor": 4
}
