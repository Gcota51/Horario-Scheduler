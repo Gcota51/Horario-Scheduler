{
 "metadata": {
  "language_info": {
   "codemirror_mode": {
    "name": "ipython",
    "version": 3
   },
   "file_extension": ".py",
   "mimetype": "text/x-python",
   "name": "python",
   "nbconvert_exporter": "python",
   "pygments_lexer": "ipython3",
   "version": "3.8.3-final"
  },
  "orig_nbformat": 2,
  "kernelspec": {
   "name": "python3",
   "display_name": "Python 3",
   "language": "python"
  }
 },
 "nbformat": 4,
 "nbformat_minor": 2,
 "cells": [
  {
   "source": [
    "# Setup\n"
   ],
   "cell_type": "markdown",
   "metadata": {}
  },
  {
   "source": [
    "Import nltk y descargar stopwords de la pestaña de corpus. EJECUCIÓN UNICA. "
   ],
   "cell_type": "markdown",
   "metadata": {}
  },
  {
   "cell_type": "code",
   "execution_count": null,
   "metadata": {},
   "outputs": [],
   "source": [
    "import nltk\n",
    "nltk.download()\n",
    "# Download stopwords from corpus"
   ]
  },
  {
   "cell_type": "code",
   "execution_count": null,
   "metadata": {},
   "outputs": [],
   "source": [
    "from tika import parser #pip install tika REQUIERE JDK\n",
    "import os\n",
    "import unidecode #pip install unidecode\n",
    "import time\n",
    "#Import TfIdfVectorizer from scikit-learn\n",
    "from sklearn.feature_extraction.text import TfidfVectorizer\n",
    "from nltk.corpus import stopwords\n",
    "import pandas as pd"
   ]
  },
  {
   "source": [
    "Esta sección parsea los datos de los pdf a los .txt"
   ],
   "cell_type": "markdown",
   "metadata": {}
  },
  {
   "cell_type": "code",
   "execution_count": null,
   "metadata": {},
   "outputs": [],
   "source": [
    "\n",
    "directory = \"data/planes_materias/pdf/\"\n",
    "\n",
    "for filename in os.listdir(directory):\n",
    "    if filename.endswith(\".pdf\"): \n",
    "        print(filename)\n",
    "        raw = parser.from_file(os.path.join(directory, filename))\n",
    "        #print(raw['content'])\n",
    "        lines = raw['content']\n",
    "\n",
    "        lines = unidecode.unidecode(lines[77:])\n",
    "        #print(lines)\n",
    "        f = open(os.path.join(\"data/planes_materias/txt/\", filename[:-3]+ \"txt\"), 'w')\n",
    "        f.write(lines)\n",
    "        f.close()\n",
    "        time.sleep(.9)\n",
    "        continue\n",
    "    else:\n",
    "        continue"
   ]
  },
  {
   "source": [
    "# Aqui empieza el main"
   ],
   "cell_type": "markdown",
   "metadata": {}
  },
  {
   "source": [
    "The problem at hand is a Natural Language Processing problem. Hence you need to extract some kind of features from the above text data before you can compute the similarity and/or dissimilarity between them. To put it simply, it is not possible to compute the similarity between any two overviews in their raw forms. To do this, you need to compute the word vectors of each overview or document, as it will be called from now on.\n",
    "\n",
    "As the name suggests, word vectors are vectorized representation of words in a document. The vectors carry a semantic meaning with it. For example, man & king will have vector representations close to each other while man & woman would have representation far from each other.\n",
    "\n",
    "You will compute Term Frequency-Inverse Document Frequency (TF-IDF) vectors for each document. This will give you a matrix where each column represents a word in the overview vocabulary (all the words that appear in at least one document), and each column represents a movie, as before.\n",
    "\n",
    "https://www.datacamp.com/community/tutorials/recommender-systems-python"
   ],
   "cell_type": "markdown",
   "metadata": {}
  },
  {
   "source": [
    "\n",
    "directory = \"data/planes_materias/txt/\"\n",
    "\n",
    "materias = {}\n",
    "#print(\"hola\")\n",
    "for filename in os.listdir(directory):\n",
    "    if filename.endswith(\".txt\"):\n",
    "        #print(filename) \n",
    "        f = open(os.path.join(directory, filename), 'r')\n",
    "        materias[filename[:-4]] = f.read()\n",
    "\n",
    "#print(materias['1.txt'])\n"
   ],
   "cell_type": "code",
   "metadata": {},
   "execution_count": null,
   "outputs": []
  },
  {
   "cell_type": "code",
   "execution_count": 94,
   "metadata": {},
   "outputs": [
    {
     "output_type": "stream",
     "name": "stdout",
     "text": [
      "Int64Index([   1,    2,    3,    4,    5,    6,    7,    8,    9,   10,\n            ...\n             990,  991, 1063, 1506, 1609, 1706, 1707, 1710, 1712, 1815],\n           dtype='int64', length=154)\n"
     ]
    },
    {
     "output_type": "execute_result",
     "data": {
      "text/plain": [
       "(154, 9694)"
      ]
     },
     "metadata": {},
     "execution_count": 94
    }
   ],
   "source": [
    "#Palabras que no consideraremos.\n",
    "stop_words = stopwords.words('spanish')\n",
    "my_stop_words = [\"CARRERA\",\"MATEMATICO\",\"SERIACION\", \"INDICATIVA\" ,\"ANTECEDENTE\",\"MODALIDAD\",\"CURSO\",\"CARACTER\", \"TEORICAS\", \"PRACTICAS\" ,\"CREDITOS\", \"HORAS\", \"SEMANA\", \"SEMESTRE\", \"CLAVE\", \"FACULTAD\", \"CIENCIAS\", \"OBJETIVO\",\"BIBLIOGRAFIA\", \"BASICA\", \"COMPLEMENTARIA\",\"SUGERENCIA\",\"PARA\",\"LA\",\"EVALUACION\",\"DE\",\"LA\",\"ASIGNATURA\",\"Ademas\",\"de\",\"las\",\"calificaciones\",\n",
    "\"en\",\"examenes\",\"y\",\"tareas\",\"se\",\"tomara\",\"en\",\"cuenta\",\"la\",\"participacion\",\"del\",\"alumno\",\n",
    "\"PERFIL\",\"PROFESIOGRAFICO\",\"Matematico\",\"fisico\",\"actuario\",\"o\",\"licenciado\",\"en\",\"ciencias\"\n",
    ",\"de\",\"la\",\"computacion\",\"especialista\",\"en\",\"el\",\"area\",\"de\",\"la\",\"asignatura\",\"a\",\"juicio\"\n",
    ",\"del\",\"comite\",\"de\",\"asignacion\",\"de\", \"cursos\",\"UNIDADES\", \"TEMATICAS\",\"SERIACION\" ,\"INDICATIVA\" ,\"ANTECEDENTE\", \"SUBSECUENTE\",\"optativo\",\"Optativas\"]\n",
    "stop_words.append(my_stop_words)\n",
    "\n",
    "#data = pd.DataFrame(materias)\n",
    "data = pd.Series(materias).to_frame()\n",
    "type(data)\n",
    "data = data.rename(columns={0: 'Planes'})\n",
    "#data[\"index\"] = pd.to_numeric(data[\"index\"])\n",
    "data.index = data.index.map(int)\n",
    "data.sort_index(inplace=True)\n",
    "\n",
    "#print(data.columns)\n",
    "print(data.index)\n",
    "\n",
    "\n",
    "#Define a TF-IDF Vectorizer Object. Remove all spanis stop words such as 'de', 'la', 'que', 'el'\n",
    "tfidf = TfidfVectorizer(stop_words)\n",
    "\n",
    "#Construct the required TF-IDF matrix by fitting and transforming the data\n",
    "tfidf_matrix = tfidf.fit_transform(data['Planes'])\n",
    "\n",
    "#Output the shape of tfidf_matrix\n",
    "tfidf_matrix.shape\n"
   ]
  },
  {
   "cell_type": "code",
   "execution_count": 95,
   "metadata": {},
   "outputs": [
    {
     "output_type": "execute_result",
     "data": {
      "text/plain": [
       "['digraficas',\n",
       " 'digraphs',\n",
       " 'dijkstra',\n",
       " 'dilatacion',\n",
       " 'dilke',\n",
       " 'dillon',\n",
       " 'dimension',\n",
       " 'dimensional',\n",
       " 'dimensionales',\n",
       " 'dimensionality',\n",
       " 'dimensionantropologica',\n",
       " 'dimensiones',\n",
       " 'dinamica',\n",
       " 'dinamical',\n",
       " 'dinamicas',\n",
       " 'dinamico',\n",
       " 'dinamicos']"
      ]
     },
     "metadata": {},
     "execution_count": 95
    }
   ],
   "source": [
    "#Palabras encontradas en todos los archivos\n",
    "tfidf.get_feature_names()[2990:3007]"
   ]
  },
  {
   "cell_type": "code",
   "execution_count": 96,
   "metadata": {},
   "outputs": [
    {
     "output_type": "execute_result",
     "data": {
      "text/plain": [
       "(154, 154)"
      ]
     },
     "metadata": {},
     "execution_count": 96
    }
   ],
   "source": [
    "from sklearn.metrics.pairwise import linear_kernel\n",
    "\n",
    "# Compute the cosine similarity matrix\n",
    "cosine_sim = linear_kernel(tfidf_matrix, tfidf_matrix)\n",
    "cosine_sim.shape"
   ]
  },
  {
   "cell_type": "code",
   "execution_count": 97,
   "metadata": {},
   "outputs": [
    {
     "output_type": "execute_result",
     "data": {
      "text/plain": [
       "array([0.40419113, 1.        , 0.31810136, 0.3515157 , 0.26657346,\n",
       "       0.31713414, 0.30480452, 0.31898517, 0.25845382, 0.30743276,\n",
       "       0.24300932, 0.21455324, 0.22938134, 0.22066034, 0.21416592,\n",
       "       0.2454753 , 0.23546273, 0.28656018, 0.29716748, 0.25598118,\n",
       "       0.2855816 , 0.2716472 , 0.26014019, 0.23422356, 0.2204104 ,\n",
       "       0.23120536, 0.24211392, 0.19774053, 0.3271041 , 0.24020937,\n",
       "       0.21308072, 0.26885764, 0.27978719, 0.25689672, 0.22451863,\n",
       "       0.27678151, 0.27720559, 0.23918952, 0.2131673 , 0.24796128,\n",
       "       0.20746668, 0.28957904, 0.23136835, 0.28661217, 0.24575322,\n",
       "       0.17456442, 0.26137049, 0.18708388, 0.25309904, 0.15546245,\n",
       "       0.24857502, 0.2185814 , 0.24563228, 0.26062098, 0.21728521,\n",
       "       0.24633038, 0.25785203, 0.21570145, 0.18144005, 0.26099365,\n",
       "       0.21756244, 0.26167192, 0.21205772, 0.20923217, 0.24056683,\n",
       "       0.22064788, 0.2653997 , 0.21544989, 0.11230661, 0.24403525,\n",
       "       0.25197591, 0.23473167, 0.26014644, 0.17353269, 0.27628991,\n",
       "       0.22983644, 0.23351023, 0.20673387, 0.28422641, 0.27250038,\n",
       "       0.22074388, 0.19109041, 0.22278124, 0.18736797, 0.20124391,\n",
       "       0.22010358, 0.18097551, 0.22287832, 0.19035848, 0.23720779,\n",
       "       0.18614138, 0.20081659, 0.20441188, 0.33651335, 0.22846215,\n",
       "       0.22315697, 0.28587816, 0.18944685, 0.29332857, 0.27794028,\n",
       "       0.2985481 , 0.17241954, 0.31068149, 0.2861475 , 0.31262857,\n",
       "       0.18651261, 0.22493209, 0.29170633, 0.24708574, 0.19647986,\n",
       "       0.21856826, 0.2416343 , 0.30771439, 0.23121424, 0.2531489 ,\n",
       "       0.25293003, 0.21795398, 0.23322978, 0.17507917, 0.20273928,\n",
       "       0.21660735, 0.19704498, 0.21147998, 0.21377519, 0.24569811,\n",
       "       0.28823877, 0.27997308, 0.25802479, 0.18988465, 0.24946125,\n",
       "       0.32503149, 0.24997068, 0.24992054, 0.25043271, 0.2347961 ,\n",
       "       0.28912955, 0.29787303, 0.2045499 , 0.24835129, 0.22485835,\n",
       "       0.19467378, 0.17328757, 0.21331368, 0.18857273, 0.2018331 ,\n",
       "       0.25863994, 0.00304792, 0.00304792, 0.20388336, 0.00304792,\n",
       "       0.24301341, 0.14990796, 0.26070498, 0.17666073])"
      ]
     },
     "metadata": {},
     "execution_count": 97
    }
   ],
   "source": [
    "cosine_sim[1]"
   ]
  },
  {
   "cell_type": "code",
   "execution_count": 105,
   "metadata": {},
   "outputs": [
    {
     "output_type": "execute_result",
     "data": {
      "text/plain": [
       "(2, 2)"
      ]
     },
     "metadata": {},
     "execution_count": 105
    }
   ],
   "source": [
    "tfidf_matrix = tfidf.transform([\"Topologia\", \"Geometria\"])\n",
    "cosine_sim = linear_kernel(tfidf_matrix, tfidf_matrix)\n",
    "cosine_sim.shape"
   ]
  },
  {
   "cell_type": "code",
   "execution_count": 106,
   "metadata": {},
   "outputs": [],
   "source": [
    "#indices = pd.Series(data.index, index=data.index).drop_duplicates()\n",
    "\n",
    "# Function that takes in movie title as input and outputs most similar movies\n",
    "def get_recommendations(string, cosine_sim=cosine_sim):\n",
    "    # Get the index of the movie that matches the title\n",
    "    \n",
    "\n",
    "    # Get the pairwsie similarity scores of all movies with that movie\n",
    "    sim_scores = list(enumerate(cosine_sim[string]))\n",
    "    \n",
    "\n",
    "    # Sort the topics based on the similarity scores\n",
    "    sim_scores = sorted(sim_scores, key=lambda x: x[1], reverse=True)\n",
    "    #print(sim_scores)\n",
    "    # Get the scores of the  10most similar topics\n",
    "    sim_scores = sim_scores[0:11]\n",
    "\n",
    "    # Get the movie indices\n",
    "    recomendaciones = [i[0] for i in sim_scores]\n",
    "    print(recomendaciones)\n",
    "\n",
    "\n",
    "\n",
    "    # Return the top 10 most similar topics\n",
    "    return data.iloc[recomendaciones]"
   ]
  },
  {
   "cell_type": "code",
   "execution_count": 103,
   "metadata": {},
   "outputs": [
    {
     "output_type": "stream",
     "name": "stdout",
     "text": [
      "[1, 0, 3, 93, 28, 130, 7, 2, 5, 104, 102]\n"
     ]
    },
    {
     "output_type": "execute_result",
     "data": {
      "text/plain": [
       "                                                Planes\n",
       "2    FACULTAD DE CIENCIAS\\n\\nCARRERA DE MATEMATICO\\...\n",
       "1    FACULTAD DE CIENCIAS\\n\\nCARRERA DE MATEMATICO\\...\n",
       "4    FACULTAD DE CIENCIAS\\n\\nCARRERA DE MATEMATICO\\...\n",
       "712  FACULTAD DE CIENCIAS\\n\\nCARRERA DE MATEMATICO\\...\n",
       "242  FACULTAD DE CIENCIAS\\n\\nCARRERA DE MATEMATICO\\...\n",
       "939  FACULTAD DE CIENCIAS\\n\\nCARRERA DE MATEMATICO\\...\n",
       "8    A DE MEXICO \\n\\n \\nFacultad de Ciencias \\n\\n \\...\n",
       "3    FACULTAD DE CIENCIAS\\n\\nCARRERA DE MATEMATICO\\...\n",
       "6    FACULTAD DE CIENCIAS\\n\\nCARRERA DE MATEMATICO\\...\n",
       "745  FACULTAD DE CIENCIAS\\n\\nCARRERA DE MATEMATICO\\...\n",
       "742  FACULTAD DE CIENCIAS\\n\\nCARRERA DE MATEMATICO\\..."
      ],
      "text/html": "<div>\n<style scoped>\n    .dataframe tbody tr th:only-of-type {\n        vertical-align: middle;\n    }\n\n    .dataframe tbody tr th {\n        vertical-align: top;\n    }\n\n    .dataframe thead th {\n        text-align: right;\n    }\n</style>\n<table border=\"1\" class=\"dataframe\">\n  <thead>\n    <tr style=\"text-align: right;\">\n      <th></th>\n      <th>Planes</th>\n    </tr>\n  </thead>\n  <tbody>\n    <tr>\n      <th>2</th>\n      <td>FACULTAD DE CIENCIAS\\n\\nCARRERA DE MATEMATICO\\...</td>\n    </tr>\n    <tr>\n      <th>1</th>\n      <td>FACULTAD DE CIENCIAS\\n\\nCARRERA DE MATEMATICO\\...</td>\n    </tr>\n    <tr>\n      <th>4</th>\n      <td>FACULTAD DE CIENCIAS\\n\\nCARRERA DE MATEMATICO\\...</td>\n    </tr>\n    <tr>\n      <th>712</th>\n      <td>FACULTAD DE CIENCIAS\\n\\nCARRERA DE MATEMATICO\\...</td>\n    </tr>\n    <tr>\n      <th>242</th>\n      <td>FACULTAD DE CIENCIAS\\n\\nCARRERA DE MATEMATICO\\...</td>\n    </tr>\n    <tr>\n      <th>939</th>\n      <td>FACULTAD DE CIENCIAS\\n\\nCARRERA DE MATEMATICO\\...</td>\n    </tr>\n    <tr>\n      <th>8</th>\n      <td>A DE MEXICO \\n\\n \\nFacultad de Ciencias \\n\\n \\...</td>\n    </tr>\n    <tr>\n      <th>3</th>\n      <td>FACULTAD DE CIENCIAS\\n\\nCARRERA DE MATEMATICO\\...</td>\n    </tr>\n    <tr>\n      <th>6</th>\n      <td>FACULTAD DE CIENCIAS\\n\\nCARRERA DE MATEMATICO\\...</td>\n    </tr>\n    <tr>\n      <th>745</th>\n      <td>FACULTAD DE CIENCIAS\\n\\nCARRERA DE MATEMATICO\\...</td>\n    </tr>\n    <tr>\n      <th>742</th>\n      <td>FACULTAD DE CIENCIAS\\n\\nCARRERA DE MATEMATICO\\...</td>\n    </tr>\n  </tbody>\n</table>\n</div>"
     },
     "metadata": {},
     "execution_count": 103
    }
   ],
   "source": [
    "# Devuelve una lista de 10 recomendaciones de la posicion 5 de los temarios. \n",
    "\n",
    "# Poner posicion, no clave.\n",
    "#1.pdf -> 0\n",
    "#2.pdf -> 1\n",
    "\n",
    "Foo(clave ) -> index\n",
    "\n",
    "\n",
    "get_recommendations(1)"
   ]
  },
  {
   "cell_type": "code",
   "execution_count": null,
   "metadata": {},
   "outputs": [],
   "source": []
  }
 ]
}