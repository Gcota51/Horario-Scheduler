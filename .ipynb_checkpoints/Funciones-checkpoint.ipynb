{
 "cells": [
  {
   "cell_type": "code",
   "execution_count": 1,
   "metadata": {},
   "outputs": [],
   "source": [
    "import json\n",
    "\n",
    "with open('ciencias_horarios/materias_limpio.json') as archivo:\n",
    "    materias_limpio = json.load(archivo)"
   ]
  },
  {
   "cell_type": "markdown",
   "metadata": {},
   "source": [
    "Hacemos la clase de materia, donde cada objeto representará una materia y contendrá información acerca de sus grupos, horarios y profesores"
   ]
  },
  {
   "cell_type": "code",
   "execution_count": 2,
   "metadata": {},
   "outputs": [],
   "source": [
    "class materia():\n",
    "    '''\n",
    "    Clase que contendrá la información de una materia\n",
    "    '''\n",
    "    def __init__(self, clave,materia):\n",
    "        '''\n",
    "        Función de inicialización que creará el diccionario con los \n",
    "        grupos de la materia, y un diccionario cuyas llaves serán los días\n",
    "        de la semana y a su vez cada una contendrá un diccionario con las\n",
    "        horas y los grupos que imparten la materia en cada hora.\n",
    "        -------------------------------------------------------------------\n",
    "        :param clave str: Cadena de cuatro dígitos que contiene la clave\n",
    "                         de la materia\n",
    "        :param materia str: Cadena con el nombre de la materia\n",
    "        '''\n",
    "        self.grupos = {}\n",
    "        self.clave = clave\n",
    "        self.nombre = materia\n",
    "        self.horarios = {\n",
    "            'lu':{},\n",
    "            'ma':{},\n",
    "            'mi':{},\n",
    "            'ju':{},\n",
    "            'vi':{},\n",
    "            'sa':{}\n",
    "        }\n",
    "        \n",
    "    def agregar_grupo(self,grupo,profesor,horario):\n",
    "        '''\n",
    "        Función de agregació  de grupos a la clase. Agregará\n",
    "        el grupo al diccionario `grupos` así como actualización\n",
    "        del diccionario de horarios.\n",
    "        -----------------------------------------\n",
    "        :param grupo str: Cadena de 4 dígitos con el número de grupo.\n",
    "        :param profesor str: Nombre del docente del grupo.\n",
    "        :param horario dict: Diccionario que incluye el horario por día\n",
    "        '''\n",
    "        for dia in horario.keys():\n",
    "            #print(horario[dia])\n",
    "            if horario[dia] !=[]:\n",
    "                hora_dia = tuple(horario[dia][0])\n",
    "\n",
    "                if hora_dia not in list(self.horarios[dia].keys()):\n",
    "\n",
    "                    self.horarios[dia][hora_dia] = []\n",
    "                self.horarios[dia][hora_dia].append(grupo)\n",
    "\n",
    "        self.grupos[grupo] = [profesor,horario]"
   ]
  },
  {
   "cell_type": "markdown",
   "metadata": {},
   "source": [
    "Y guardamos cada materia como un objeto de la clase:"
   ]
  },
  {
   "cell_type": "code",
   "execution_count": 3,
   "metadata": {},
   "outputs": [],
   "source": [
    "dict_materias = {}\n",
    "claves = []\n",
    "grupos_claves = {}\n",
    "for materia_limpio in materias_limpio:\n",
    "    clave = materia_limpio['clave']\n",
    "    if clave not in claves:\n",
    "        claves.append(clave)\n",
    "        asignatura = materia_limpio['materia']\n",
    "        mat = materia(clave,asignatura)\n",
    "        dict_materias[clave] = mat\n",
    "    \n",
    "    grupo = materia_limpio['grupo']\n",
    "    profesor = materia_limpio['profesor']\n",
    "    horario = materia_limpio['horario']\n",
    "    grupos_claves[grupo] = clave\n",
    "    dict_materias[clave].agregar_grupo(grupo,profesor,horario)"
   ]
  },
  {
   "cell_type": "markdown",
   "metadata": {},
   "source": [
    "Algunas funciones para pasar de claves a nombres y grupos, así como otras funciones útiles"
   ]
  },
  {
   "cell_type": "code",
   "execution_count": 4,
   "metadata": {},
   "outputs": [],
   "source": [
    "def str_to_clave(clave):\n",
    "    '''\n",
    "    Función que convierte un entero a una clave \n",
    "    en cadena de texto 4 dígitos\n",
    "    '''\n",
    "    clave_str = str(clave)\n",
    "    clave_str = '0'*(4-len(clave_str))+clave_str\n",
    "    return clave_str\n",
    "    \n",
    "def clave_to_nombre(clave):\n",
    "    '''\n",
    "    Dada una clave , regresa el nombre de la asignatura\n",
    "    '''\n",
    "    if isinstance(clave, int):\n",
    "        clave_str = str_to_clave(clave)\n",
    "        return dict_materias[clave_str].nombre \n",
    "        \n",
    "    return dict_materias[clave].nombre\n",
    "\n",
    "\n",
    "def get_horario(clave,hora_inicio,dia):\n",
    "    '''\n",
    "    Dada una clave, regresa todos los grupos que comiencen a \n",
    "    la hora dada.\n",
    "    \n",
    "    :param clave str: Cadena de 4 dígitos que indica la materia\n",
    "    :param hora_inicio float: Hora a la que inicia la clase\n",
    "    :para dia str: Cadena de dos letras que indica el día del horario.\n",
    "    \n",
    "    :returns False: En caso de que no haya algún grupo en ese horario\n",
    "    :returns (horario_inicio,horario_fin), grupos:\n",
    "                    Regresa una tupla con inicio y fin de la materio junto\n",
    "                    a sus grupos.\n",
    "    '''\n",
    "    materia = dict_materias[clave]\n",
    "    for horario in materia.horarios[dia].keys():\n",
    "        if hora_inicio == horario[0]:\n",
    "            return horario, materia.horarios[dia][horario]\n",
    "    return False\n",
    "\n",
    "def grupo_to_clave(grupo):\n",
    "    '''\n",
    "    Regresa a qué materia pertenece un grupo específico\n",
    "    -----------------------------------------------------\n",
    "    :param grupo str: Cadena de 4 dígitos de un grupo\n",
    "    \n",
    "    :returns str: Cadena de 4 dígitos que representa la materia \n",
    "    '''\n",
    "    return grupos_claves[grupo]\n"
   ]
  },
  {
   "cell_type": "markdown",
   "metadata": {},
   "source": [
    "La siguiente función nos permite obtener toda la información de una materia con solo el código de grupo"
   ]
  },
  {
   "cell_type": "code",
   "execution_count": 5,
   "metadata": {},
   "outputs": [],
   "source": [
    "\n",
    "def grupo_info(grupo):\n",
    "    '''\n",
    "    Da la información de un grupo\n",
    "    --------------------------------------\n",
    "    :param grupo str: Cadena de 4 dígitos de un grupo\n",
    "    \n",
    "    :returns: Profesor, Horario de la materia\n",
    "    '''\n",
    "    clave = grupo_to_clave(grupo)\n",
    "    grupo = dict_materias[clave].grupos[grupo]\n",
    "    profesor , horario = grupo\n",
    "    horario = {dia:tuple(horario[dia][0]) for dia in horario.keys() if horario[dia] !=[]}\n",
    "    return clave, profesor, horario\n",
    "    "
   ]
  },
  {
   "cell_type": "code",
   "execution_count": null,
   "metadata": {},
   "outputs": [],
   "source": []
  },
  {
   "cell_type": "code",
   "execution_count": null,
   "metadata": {},
   "outputs": [],
   "source": []
  },
  {
   "cell_type": "code",
   "execution_count": null,
   "metadata": {},
   "outputs": [],
   "source": []
  }
 ],
 "metadata": {
  "kernelspec": {
   "display_name": "Python 3",
   "language": "python",
   "name": "python3"
  },
  "language_info": {
   "codemirror_mode": {
    "name": "ipython",
    "version": 3
   },
   "file_extension": ".py",
   "mimetype": "text/x-python",
   "name": "python",
   "nbconvert_exporter": "python",
   "pygments_lexer": "ipython3",
   "version": "3.8.3"
  }
 },
 "nbformat": 4,
 "nbformat_minor": 4
}
