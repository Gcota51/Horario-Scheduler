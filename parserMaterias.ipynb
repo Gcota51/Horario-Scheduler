{
 "metadata": {
  "language_info": {
   "codemirror_mode": {
    "name": "ipython",
    "version": 3
   },
   "file_extension": ".py",
   "mimetype": "text/x-python",
   "name": "python",
   "nbconvert_exporter": "python",
   "pygments_lexer": "ipython3",
   "version": "3.8.3-final"
  },
  "orig_nbformat": 2,
  "kernelspec": {
   "name": "python3",
   "display_name": "Python 3",
   "language": "python"
  }
 },
 "nbformat": 4,
 "nbformat_minor": 2,
 "cells": [
  {
   "cell_type": "code",
   "execution_count": 17,
   "metadata": {},
   "outputs": [],
   "source": [
    "import subprocess\n",
    "from tika import parser #pip install tika REQUIERE JDK\n",
    "import unidecode #pip install unidecode"
   ]
  },
  {
   "cell_type": "code",
   "execution_count": 23,
   "metadata": {},
   "outputs": [
    {
     "output_type": "stream",
     "name": "stdout",
     "text": [
      "FACULTAD DE CIENCIAS\n\nCARRERA DE MATEMATICO\n\nALGEBRA MODERNA I\n\nSEMESTRE: QUINTO\nCLAVE: 0001\n\nHORAS A LA SEMANA/SEMESTRE\n\nTEORICAS PRACTICAS CREDITOS\n5/80 0 10\n\nCARACTER: OBLIGATORIA.\nMODALIDAD: CURSO.\nSERIACION INDICATIVA ANTECEDENTE: Algebra Lineal II, Calculo Diferencial\ne Integral III.\nSERIACION INDICATIVA SUBSECUENTE: Algebra Moderna II, Analisis Matemati-\nco III, Historia de las Matematicas II, Seminario de Algebra (A o B), Seminario\nde Analisis Combinatorio, Seminario de Analisis Matematico (A o B), Seminario\nde Filosofia de las Matematicas, Seminario de Geometria (A o B), Seminario de\nHistoria y Filosofia de la Ciencia I, Seminario de Topologia (A o B), Seminario\nsobre la Ensenanza de las Matematicas I, Topologia II, Variable Compleja II.\n\nOBJETIVO(S): Introducir al alumno a la teoria general de grupos.\n\nNUM. HORAS UNIDADES TEMATICAS\n\n25 1. Teoria elemental de grupos\n1.1 Grupos.\n1.2 Subgrupos.\n1.3 Grupos ciclicos.\n1.4 Grupos de permutaciones. Ciclos, transposiciones, paridad y el\ngrupo alternante.\n1.5 Clases laterales y el teorema de Lagrange.\n1.6 Subgrupos normales y Grupo cociente.\n1.7 Productos directos y grupos abelianos finitos.\n\n20 2. Homomorfismos\n2.1 Homomorfismos.\n2.2 Teorema de Cayley.\n2.3 Teoremas de Isomorfismo.\n\n1\n\n\n\n35 3. Topicos avanzados\n3.1 Series de subgrupos.\n3.2 Teorema de Jordan-Holder.\n3.3 Accion de un grupo en un conjunto. La ecuacion de clases.\n3.4 Teoremas de Sylow.\n3.5 Demostracion del Teorema Fundamental de los grupos abelianos\nfinitos.\n\nBIBLIOGRAFIA BASICA:\n\n1. Fraleigh, J.B., A First Course in Abstract Algebra, Boston: Addison-Wesley, 2003.\n\n2. Herstein, I.N., Topics in Algebra, New York: J. Wiley, 1975.\n\n3. Rotman, J.J., An Introduction to the Theory of Groups, New York: Springer, 1995.\n\nBIBLIOGRAFIA COMPLEMENTARIA:\n\n1. Jacobson, N., Lectures in Abstract Algebra, New York: Springer, 1980.\n\n2. Lang, S., Algebra, New York: Springer Verlag, 2002.\n\nSUGERENCIAS DIDACTICAS: Lograr la participacion activa de los alumnos mediante\nexposiciones.\n\nSUGERENCIA PARA LA EVALUACION DE LA ASIGNATURA: Ademas de las califi-\ncaciones en examenes y tareas se tomara en cuenta la participacion del alumno.\n\nPERFIL PROFESIOGRAFICO: Matematico, fisico, actuario o licenciado en ciencias de\nla computacion, especialista en el area de la asignatura a juicio del comite de asignacion\nde cursos.\n\n2\n\n\n\n"
     ]
    }
   ],
   "source": [
    "\n",
    "raw = parser.from_file('data/planes_materias/pdf/1.pdf')\n",
    "#print(raw['content'])\n",
    "lines = raw['content']\n",
    "\n",
    "lines = unidecode.unidecode(lines[77:])\n",
    "print(lines)\n",
    "\n",
    "\n",
    "\n",
    "f = open('data/planes_materias/txt/1.txt', 'w')\n",
    "f.write(lines)\n",
    "f.close()\n",
    "\n",
    "#open and read the file after the appending:\n",
    "#f = open(\"demofile2.txt\", \"r\")\n",
    "#print(f.read())\n",
    "\n",
    "\n"
   ]
  },
  {
   "cell_type": "code",
   "execution_count": null,
   "metadata": {},
   "outputs": [],
   "source": []
  }
 ]
}