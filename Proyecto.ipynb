{
 "cells": [
  {
   "cell_type": "code",
   "execution_count": 310,
   "metadata": {},
   "outputs": [],
   "source": [
    "import random\n",
    "from numpy import linspace\n",
    "import itertools"
   ]
  },
  {
   "cell_type": "code",
   "execution_count": 268,
   "metadata": {},
   "outputs": [],
   "source": [
    "%run Extraccion.ipynb"
   ]
  },
  {
   "cell_type": "code",
   "execution_count": 269,
   "metadata": {},
   "outputs": [],
   "source": [
    "%run ParserMaterias.ipynb"
   ]
  },
  {
   "cell_type": "code",
   "execution_count": 270,
   "metadata": {},
   "outputs": [
    {
     "data": {
      "text/plain": [
       "[162, 765, 183, 165, 766, 395, 433, 163, 712, 939]"
      ]
     },
     "execution_count": 270,
     "metadata": {},
     "output_type": "execute_result"
    }
   ],
   "source": [
    "get_recommendations(\"topologia ecuaciones diferenciales\")"
   ]
  },
  {
   "cell_type": "code",
   "execution_count": 271,
   "metadata": {},
   "outputs": [],
   "source": [
    "def get_recomendations_str(intereses):\n",
    "    '''\n",
    "    Dado una cadena con los intereses de alguna persona, regresa el nombre\n",
    "    de las materias que le recomienda.\n",
    "    ----------------------------------------------------------\n",
    "    :param intereses str: Cadena que tiene intereses del alumno\n",
    "    :returns [str]: Lista con materias a considerar\n",
    "    '''\n",
    "    recomendaciones = []\n",
    "    recomendaciones_num = get_recommendations(intereses)\n",
    "    for recomendacion in recomendaciones_num:\n",
    "        try:\n",
    "            recomendaciones.append((clave_to_nombre(recomendacion),str_to_clave(recomendacion)))\n",
    "        except Exception as e:\n",
    "            pass\n",
    "    return recomendaciones"
   ]
  },
  {
   "cell_type": "code",
   "execution_count": 272,
   "metadata": {},
   "outputs": [
    {
     "data": {
      "text/plain": [
       "[('ecuaciones diferenciales i', '0162'),\n",
       " ('topologia i', '0765'),\n",
       " ('ecuaciones diferenciales parciales ii', '0183'),\n",
       " ('ecuaciones diferenciales parciales i', '0165'),\n",
       " ('topologia ii', '0766'),\n",
       " ('ecuaciones diferenciales ii', '0163'),\n",
       " ('seminario de topologia b', '0712')]"
      ]
     },
     "execution_count": 272,
     "metadata": {},
     "output_type": "execute_result"
    }
   ],
   "source": [
    "get_recomendations_str('topologia ecuaciones diferenciales')"
   ]
  },
  {
   "cell_type": "code",
   "execution_count": 273,
   "metadata": {},
   "outputs": [
    {
     "data": {
      "text/plain": [
       "({(10.0, 11.0): ['4212', '4213'], (9.0, 10.0): ['4214', '4214']},\n",
       " [(9.0, 10.0), (10.0, 11.0)],\n",
       " {'0002': ['4212', '4213'],\n",
       "  '0003': ['4214', '4214'],\n",
       "  '0083': [],\n",
       "  '0163': [],\n",
       "  '0715': []})"
      ]
     },
     "execution_count": 273,
     "metadata": {},
     "output_type": "execute_result"
    }
   ],
   "source": [
    "def generar_candidatos(claves,hora_inicio,hora_fin,dia):\n",
    "    '''\n",
    "    Para las claves e información sobre hora y día, regresa un diccionario con\n",
    "    los grupos disponibles para esas materias en esas restricciones, es decir\n",
    "    un diccionario cuyas llaves son intervalos de horas y sus valores los grupos\n",
    "    que tienen clase a esa hora en ese día, eligiendo intervalos de horas entre\n",
    "    la hora de inicio y fin establecidas.\n",
    "    -------------------------------------------------\n",
    "    :param claves [str]: Lista con las claves de materias a recuperar\n",
    "    :hora_inicio float: Hora a la que inicia el horario debe ser entero o\n",
    "                        un entero y medio (e.g 9.0 y 9.50 son válidos, mientras que\n",
    "                        6:35 no es una hora válida) el 0.5 representa la media\n",
    "                        hora.\n",
    "    :hora_fin float: Hora máxima a la que termina el horario\n",
    "\n",
    "    '''\n",
    "    if hora_inicio%0.5 != 0 or hora_fin%0.5 != 0:\n",
    "        raise Exception('Ese no es un horario válido, tiene que representar una hora o \\n fracción de media hora')\n",
    "        \n",
    "    \n",
    "        \n",
    "    horario_dia = {}\n",
    "    horas_disponibles = set()\n",
    "    grupos_por_clave = {}\n",
    "    #Un intervalo de las horas representadas en fracciones de media hora\n",
    "    horas_eleccion =  linspace(hora_inicio,hora_fin,int(2*(hora_fin-hora_inicio)+1))\n",
    "    \n",
    "    #for dia in dias.keys():\n",
    "    for clave in claves:\n",
    "        grupos_por_clave[clave] = []\n",
    "        for hora in horas_eleccion:\n",
    "            horario = get_horario(clave,hora,dia)\n",
    "\n",
    "            if horario is False: #si no hay grupos disponibles a esa hora\n",
    "                continue\n",
    "            if horario[0][1]>hora_fin: #Si el horario se pasa de la hora establecida\n",
    "                continue\n",
    "\n",
    "            hora_de_clase = horario[0]\n",
    "            grupos = horario[1]\n",
    "            if hora_de_clase not in horario_dia.keys():\n",
    "                horario_dia[hora_de_clase] = []\n",
    "                \n",
    "            horas_disponibles.add(hora_de_clase)\n",
    "            horario_dia[hora_de_clase] += grupos\n",
    "            grupos_por_clave[clave] += grupos\n",
    "    \n",
    "    return horario_dia,list(horas_disponibles), grupos_por_clave\n",
    "\n",
    "candidatos = generar_candidatos(['0002','0003','0083','0163','0715'],8.0,12,'lu')\n",
    "candidatos"
   ]
  },
  {
   "cell_type": "code",
   "execution_count": 316,
   "metadata": {},
   "outputs": [],
   "source": [
    "def generar_candidatos_semana(claves, hora_inicio, hora_fin):\n",
    "    dias = ['lu','ma','mi','ju','vi','sa']\n",
    "    \n",
    "    horario_por_dia = {}\n",
    "    horas_disponibles_por_dia = {}\n",
    "    grupos_por_clave = {}\n",
    "    for dia in dias:\n",
    "        candidatos_dia = generar_candidatos(claves,hora_inicio,hora_fin,dia)\n",
    "        horario_por_dia[dia] = candidatos_dia[0]\n",
    "        horas_disponibles_por_dia[dia] = candidatos_dia[1]\n",
    "        for intervalo in candidatos_dia[2].keys():\n",
    "            if intervalo not in grupos_por_clave.keys():\n",
    "                grupos_por_clave[intervalo] = []\n",
    "            grupos_por_clave[intervalo]+= candidatos_dia[2][intervalo]\n",
    "    \n",
    "    grupos_por_clave = {intervalo:list(set(grupos_por_clave[intervalo]))\n",
    "                       for intervalo in grupos_por_clave.keys()}\n",
    "    return horario_por_dia, horas_disponibles_por_dia, grupos_por_clave\n",
    "\n",
    "candidatos = generar_candidatos_semana(['0002','0003','0005','0715'],6.0,10)"
   ]
  },
  {
   "cell_type": "code",
   "execution_count": 332,
   "metadata": {},
   "outputs": [
    {
     "name": "stdout",
     "output_type": "stream",
     "text": [
      "{'lu': {(7.0, 8.0): ['4211', '4110', '4111'], (9.0, 10.0): ['4214', '4214'], (8.0, 9.0): ['4112', '4113']}, 'ma': {(7.0, 8.0): ['4211', '4110', '4111'], (9.0, 10.0): ['4214', '4214'], (8.0, 9.0): ['4112', '4113'], (7.0, 10.0): ['8242', '8244', '8242', '8244']}, 'mi': {(7.0, 8.0): ['4211', '4110', '4111'], (9.0, 10.0): ['4214', '4214'], (8.0, 9.0): ['4112', '4113'], (7.0, 10.0): ['8246', '8246']}, 'ju': {(7.0, 8.0): ['4211', '4110', '4111'], (9.0, 10.0): ['4214', '4214'], (8.0, 9.0): ['4112', '4113'], (7.0, 10.0): ['8242', '8244', '8242', '8244']}, 'vi': {(7.0, 8.0): ['4211', '4110', '4111'], (9.0, 10.0): ['4214', '4214'], (8.0, 9.0): ['4112', '4113'], (7.0, 10.0): ['8246', '8246']}, 'sa': {}}\n",
      "dict_items([('lu', (7.0, 8.0)), ('ma', (7.0, 8.0)), ('mi', (7.0, 8.0)), ('ju', (7.0, 8.0)), ('vi', (7.0, 8.0))])\n"
     ]
    }
   ],
   "source": [
    "def se_intersecta(intervalo,horario_dia):\n",
    "    '''\n",
    "    Dado un intervalo de tiempo y un horario, checa si alguna\n",
    "    clase del horario se intersecta con el intervalo.\n",
    "    '''\n",
    "    horario_lista = sorted(list(horario_dia.keys()),key= lambda x:x[1])\n",
    "    inicio = intervalo[0]\n",
    "    fin = intervalo[1]\n",
    "    for hora in horario_lista:\n",
    "        hora_inicio = hora[0]\n",
    "        hora_fin = hora[1]\n",
    "        if hora_inicio <= inicio < hora_fin or hora_inicio < fin <= hora_fin:\n",
    "            return True\n",
    "    return False\n",
    "\n",
    "def se_intersecta_semana(intervalos,horario):\n",
    "    '''\n",
    "    Dado un horario de materia por día y un horario, checa si alguna\n",
    "    clase del horario se intersecta con la materia.\n",
    "    '''\n",
    "    dias = ['lu','ma','mi','ju','vi','sa']\n",
    "    for dia in horario.keys():\n",
    "        if dia in intervalos.keys():\n",
    "            horario_dia = horario[dia]\n",
    "            if se_intersecta(intervalos[dia],horario_dia):\n",
    "                return True\n",
    "    return False\n",
    "\n",
    "prueba_dias = candidatos[0]\n",
    "horario_prueba = grupo_info('4174')[2]\n",
    "se_intersecta_semana(horario_prueba,prueba_dias)\n",
    "\n",
    "print(prueba_dias)\n",
    "print(horario_prueba.items())"
   ]
  },
  {
   "cell_type": "code",
   "execution_count": 276,
   "metadata": {},
   "outputs": [
    {
     "data": {
      "text/plain": [
       "['b']"
      ]
     },
     "execution_count": 276,
     "metadata": {},
     "output_type": "execute_result"
    }
   ],
   "source": [
    "lista = ['a','b']\n",
    "lista.remove('a')\n",
    "lista"
   ]
  },
  {
   "cell_type": "code",
   "execution_count": 300,
   "metadata": {},
   "outputs": [
    {
     "data": {
      "text/plain": [
       "['a', 'b']"
      ]
     },
     "execution_count": 300,
     "metadata": {},
     "output_type": "execute_result"
    }
   ],
   "source": [
    "lista = ['a','b']\n",
    "random.shuffle(lista)\n",
    "lista"
   ]
  },
  {
   "cell_type": "code",
   "execution_count": 360,
   "metadata": {},
   "outputs": [
    {
     "data": {
      "text/plain": [
       "(False,\n",
       " {'lu': {(15.0, 16.0): '4171', (19.0, 20.0): '4172'},\n",
       "  'ma': {(15.0, 16.0): '4171', (19.0, 20.0): '4172'},\n",
       "  'mi': {(15.0, 16.0): '4171', (19.0, 20.0): '4172'},\n",
       "  'ju': {(15.0, 16.0): '4171', (19.0, 20.0): '4172'},\n",
       "  'vi': {(15.0, 16.0): '4171', (19.0, 20.0): '4172'},\n",
       "  'sa': {}})"
      ]
     },
     "execution_count": 360,
     "metadata": {},
     "output_type": "execute_result"
    }
   ],
   "source": [
    "\n",
    "\n",
    "def conjunto_se_intersecta(grupos):\n",
    "    '''\n",
    "    Dado un conjunto de grupos, comprueba si los horarios\n",
    "    de los grupos se intersectan\n",
    "    -------------------------------------------------\n",
    "    :param grupos [str]: Lista de grupos\n",
    "    \n",
    "    :return Bool: Indicador de si los conjuntos se intersectan o no.\n",
    "    '''\n",
    "    dias = ['lu','ma','mi','ju','vi','sa']\n",
    "    primer_horario = grupo_info(grupos[0])[2]\n",
    "    horario = {dia:{} for dia in dias}\n",
    "    \n",
    "    for dia, hora in primer_horario.items():\n",
    "        horario[dia][hora] = grupos[0]\n",
    "    \n",
    "    for grupo in grupos[1:]:\n",
    "        horario_materia = grupo_info(grupo)[2]\n",
    "        if se_intersecta_semana(horario_materia,horario):\n",
    "            return True, horario\n",
    "        for dia, hora in horario_materia.items():\n",
    "            horario[dia][hora] = grupo\n",
    "\n",
    "    return False, horario\n",
    "conjunto_se_intersecta(['4171','4172'])"
   ]
  },
  {
   "cell_type": "code",
   "execution_count": 376,
   "metadata": {},
   "outputs": [
    {
     "data": {
      "text/plain": [
       "({'lu': {(9.0, 10.0): '4176', (10.0, 11.0): '4316'},\n",
       "  'ma': {(9.0, 10.0): '4176', (10.0, 11.0): '4316'},\n",
       "  'mi': {(9.0, 10.0): '4176', (10.0, 11.0): '4316'},\n",
       "  'ju': {(9.0, 10.0): '4176', (10.0, 11.0): '4316'},\n",
       "  'vi': {(9.0, 10.0): '4176', (10.0, 11.0): '4316'},\n",
       "  'sa': {}},\n",
       " [('0001', '4176'), ('0766', '4316')])"
      ]
     },
     "execution_count": 376,
     "metadata": {},
     "output_type": "execute_result"
    }
   ],
   "source": [
    "def crear_horario(claves,hora_inicio,hora_fin,seed=None):\n",
    "    '''\n",
    "    Dada una lista de claves y hora de inicio y fin de un horario deseado,\n",
    "    regresa un diccionario con el horario de esas materias, así como\n",
    "    una lista de (clave,grupo) en caso de que sea posible formar el horario,\n",
    "    en caso contrario, regresa Falso\n",
    "    ----------------------------------------------------------------\n",
    "    :param claves [str]: Lista de claves\n",
    "    :param hora_inicio float: Hora de inicio de las clases representadas\n",
    "                             en horas u horas y media (XX.0, XX.5)\n",
    "    :param hora_fin float: Hora de fin de las clases representadas\n",
    "                             en horas u horas y media (XX.0, XX.5)\n",
    "    :param seed int: Semilla para la elección de grupos, en caso de no ser especificada,\n",
    "                    la elección de grupos será aleatoria\n",
    "    \n",
    "    :returns False: En caso de no haber una combinación posible\n",
    "    :returns horario dict: Diccionario con los días y las horas en que se tiene cada\n",
    "                        materia. Ejem:\n",
    "                        {'lu': {(9.0, 10.0): '4175', (8.0, 9.0): '4112'},\n",
    "                          'ma': {(9.0, 10.0): '4175', (8.0, 9.0): '4112'},\n",
    "                          'mi': {(9.0, 10.0): '4175', (8.0, 9.0): '4112'},\n",
    "                          'ju': {(9.0, 10.0): '4175', (8.0, 9.0): '4112'},\n",
    "                          'vi': {(9.0, 10.0): '4175', (8.0, 9.0): '4112'},\n",
    "                          'sa': {}}\n",
    "    :returns [(clave,grupo)]: Lista con las claves y grupos que se eligieron. \n",
    "                            Ejem: [('0001', '4175'), ('0005', '4112')]\n",
    "    '''\n",
    "    if hora_inicio%0.5 != 0:\n",
    "        raise Exception('Ese no es un horario válido, tiene que representar una hora o \\n fracción de media hora')\n",
    "        \n",
    "    if seed is None:\n",
    "        seed = random.randint(0,2**10)\n",
    "    random.seed(seed)\n",
    "    random.shuffle(claves)\n",
    "    \n",
    "    candidatos = generar_candidatos_semana(claves,hora_inicio,hora_fin)\n",
    "    candidatos_por_clave = candidatos[2]\n",
    "    for dia in candidatos_por_clave.keys():\n",
    "        if candidatos_por_clave[dia] == []:\n",
    "            return False #En caso de que no sea posible acomodar algún horario\n",
    "        random.shuffle(candidatos_por_clave[dia])\n",
    "    \n",
    "    grupos = list(candidatos_por_clave.values())\n",
    "    combinaciones = list(itertools.product(*grupos))\n",
    "    for comb in combinaciones:\n",
    "        if not conjunto_se_intersecta(comb)[0]:\n",
    "            return conjunto_se_intersecta(comb)[1], list(zip(claves,comb))\n",
    "    return False\n",
    "\n",
    "crear_horario(['0766','0001'],8,13)"
   ]
  }
 ],
 "metadata": {
  "kernelspec": {
   "display_name": "Python 3",
   "language": "python",
   "name": "python3"
  },
  "language_info": {
   "codemirror_mode": {
    "name": "ipython",
    "version": 3
   },
   "file_extension": ".py",
   "mimetype": "text/x-python",
   "name": "python",
   "nbconvert_exporter": "python",
   "pygments_lexer": "ipython3",
   "version": "3.8.3"
  }
 },
 "nbformat": 4,
 "nbformat_minor": 4
}
