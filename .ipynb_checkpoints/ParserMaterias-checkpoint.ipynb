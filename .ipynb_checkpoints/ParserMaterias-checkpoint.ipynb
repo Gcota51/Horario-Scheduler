{
 "cells": [
  {
   "cell_type": "markdown",
   "metadata": {},
   "source": [
    "# Setup\n"
   ]
  },
  {
   "cell_type": "markdown",
   "metadata": {},
   "source": [
    "Import nltk y descargar stopwords de la pestaña de corpus. EJECUCIÓN UNICA. "
   ]
  },
  {
   "cell_type": "code",
   "execution_count": 43,
   "metadata": {},
   "outputs": [
    {
     "ename": "SyntaxError",
     "evalue": "invalid syntax (<ipython-input-43-cd7159bfbe41>, line 1)",
     "output_type": "error",
     "traceback": [
      "\u001b[0;36m  File \u001b[0;32m\"<ipython-input-43-cd7159bfbe41>\"\u001b[0;36m, line \u001b[0;32m1\u001b[0m\n\u001b[0;31m    if __name__ == '__main__'\u001b[0m\n\u001b[0m                             ^\u001b[0m\n\u001b[0;31mSyntaxError\u001b[0m\u001b[0;31m:\u001b[0m invalid syntax\n"
     ]
    }
   ],
   "source": [
    "'''\n",
    "if __name__ == '__main__':\n",
    "    import nltk\n",
    "    nltk.download()\n",
    "'''\n",
    "# Download stopwords from corpus"
   ]
  },
  {
   "cell_type": "code",
   "execution_count": 87,
   "metadata": {},
   "outputs": [],
   "source": [
    "'''\n",
    "if __name__ == '__main__':\n",
    "    from tika import parser #pip install tika REQUIERE JDK\n",
    "'''\n",
    "import warnings\n",
    "import os\n",
    "import unidecode #pip install unidecode\n",
    "import time\n",
    "#Import TfIdfVectorizer from scikit-learn\n",
    "from sklearn.feature_extraction.text import TfidfVectorizer\n",
    "from nltk.corpus import stopwords\n",
    "import pandas as pd\n",
    "from sklearn.metrics.pairwise import linear_kernel"
   ]
  },
  {
   "cell_type": "markdown",
   "metadata": {},
   "source": [
    "Esta sección parsea los datos de los pdf a los .txt"
   ]
  },
  {
   "cell_type": "code",
   "execution_count": 88,
   "metadata": {},
   "outputs": [
    {
     "data": {
      "text/plain": [
       "'\\nif __name__ == \\'__main__\\':\\n    for filename in os.listdir(directory):\\n        if filename.endswith(\".pdf\"): \\n            print(filename)\\n            raw = parser.from_file(os.path.join(directory, filename))\\n            #print(raw[\\'content\\'])\\n            lines = raw[\\'content\\']\\n\\n            lines = unidecode.unidecode(lines[77:])\\n            #print(lines)\\n            f = open(os.path.join(\"data/planes_materias/TXT/\", filename[:-3]+ \"txt\"), \\'w\\')\\n            f.write(lines)\\n            f.close()\\n            time.sleep(.9)\\n            continue\\n        else:\\n            continue\\n'"
      ]
     },
     "execution_count": 88,
     "metadata": {},
     "output_type": "execute_result"
    }
   ],
   "source": [
    "\n",
    "directory = \"data/planes_materias/pdf/\"\n",
    "'''\n",
    "if __name__ == '__main__':\n",
    "    for filename in os.listdir(directory):\n",
    "        if filename.endswith(\".pdf\"): \n",
    "            print(filename)\n",
    "            raw = parser.from_file(os.path.join(directory, filename))\n",
    "            #print(raw['content'])\n",
    "            lines = raw['content']\n",
    "\n",
    "            lines = unidecode.unidecode(lines[77:])\n",
    "            #print(lines)\n",
    "            f = open(os.path.join(\"data/planes_materias/TXT/\", filename[:-3]+ \"txt\"), 'w')\n",
    "            f.write(lines)\n",
    "            f.close()\n",
    "            time.sleep(.9)\n",
    "            continue\n",
    "        else:\n",
    "            continue\n",
    "'''"
   ]
  },
  {
   "cell_type": "markdown",
   "metadata": {},
   "source": [
    "# Aqui empieza el main"
   ]
  },
  {
   "cell_type": "markdown",
   "metadata": {},
   "source": [
    "The problem at hand is a Natural Language Processing problem. Hence you need to extract some kind of features from the above text data before you can compute the similarity and/or dissimilarity between them. To put it simply, it is not possible to compute the similarity between any two overviews in their raw forms. To do this, you need to compute the word vectors of each overview or document, as it will be called from now on.\n",
    "\n",
    "As the name suggests, word vectors are vectorized representation of words in a document. The vectors carry a semantic meaning with it. For example, man & king will have vector representations close to each other while man & woman would have representation far from each other.\n",
    "\n",
    "You will compute Term Frequency-Inverse Document Frequency (TF-IDF) vectors for each document. This will give you a matrix where each column represents a word in the overview vocabulary (all the words that appear in at least one document), and each column represents a movie, as before.\n",
    "\n",
    "https://www.datacamp.com/community/tutorials/recommender-systems-python"
   ]
  },
  {
   "cell_type": "code",
   "execution_count": 89,
   "metadata": {},
   "outputs": [],
   "source": [
    "import os\n",
    "import unidecode #pip install unidecode\n",
    "import time\n",
    "#Import TfIdfVectorizer from scikit-learn\n",
    "from sklearn.feature_extraction.text import TfidfVectorizer\n",
    "from nltk.corpus import stopwords\n",
    "import pandas as pd\n",
    "from sklearn.metrics.pairwise import linear_kernel\n",
    "\n",
    "\n",
    "directory = \"data/planes_materias/TXT/\"\n",
    "\n",
    "materias = {}\n",
    "#print(\"hola\")\n",
    "for filename in os.listdir(directory):\n",
    "    if filename.endswith(\".txt\"):\n",
    "        #print(filename) \n",
    "        f = open(os.path.join(directory, filename), 'r')\n",
    "        materias[filename[:-4]] = f.read()\n",
    "\n",
    "#print(materias['1.txt'])\n"
   ]
  },
  {
   "cell_type": "code",
   "execution_count": 90,
   "metadata": {},
   "outputs": [
    {
     "data": {
      "text/plain": [
       "TfidfVectorizer(stop_words=['de', 'la', 'que', 'el', 'en', 'y', 'a', 'los',\n",
       "                            'del', 'se', 'las', 'por', 'un', 'para', 'con',\n",
       "                            'no', 'una', 'su', 'al', 'lo', 'como', 'más',\n",
       "                            'pero', 'sus', 'le', 'ya', 'o', 'este', 'sí',\n",
       "                            'porque', ...])"
      ]
     },
     "execution_count": 90,
     "metadata": {},
     "output_type": "execute_result"
    }
   ],
   "source": [
    "stop_words = stopwords.words('spanish')\n",
    "my_stop_words = [\"CARRERA\",\"MATEMATICO\",\"SERIACION\", \"INDICATIVA\" ,\"ANTECEDENTE\",\"MODALIDAD\",\n",
    "\"CURSO\",\"CARACTER\", \"TEORICAS\", \"PRACTICAS\" ,\"CREDITOS\", \"HORAS\", \"SEMANA\", \"SEMESTRE\", \"CLAVE\",\n",
    "\"FACULTAD\", \"CIENCIAS\", \"OBJETIVO\",\"BIBLIOGRAFIA\", \"BASICA\", \"COMPLEMENTARIA\",\"SUGERENCIA\",           \"PARA\",\"LA\",\"EVALUACION\",\"DE\",\"LA\",\"ASIGNATURA\",\"Ademas\",\"de\",\"las\",\"calificaciones\",\n",
    "\"en\",\"examenes\",\"y\",\"tareas\",\"se\",\"tomara\",\"en\",\"cuenta\",\"la\",\"participacion\",\"del\",\"alumno\",\n",
    "\"PERFIL\",\"PROFESIOGRAFICO\",\"Matematico\",\"fisico\",\"actuario\",\"o\",\"licenciado\",\"en\",\"ciencias\",\n",
    "\"de\",\"la\",\"computacion\",\"especialista\",\"en\",\"el\",\"area\",\"de\",\"la\",\"asignatura\",\"a\",\"juicio\",\n",
    "\"del\",\"comite\",\"de\",\"asignacion\",\"de\", \"cursos\",\"UNIDADES\", \"TEMATICAS\",\"SERIACION\" ,\n",
    "\"INDICATIVA\" ,\"ANTECEDENTE\", \"SUBSECUENTE\",\"optativo\",\"Optativas\"]\n",
    "stop_words.append(my_stop_words)\n",
    "TfidfVectorizer(stop_words=stop_words)"
   ]
  },
  {
   "cell_type": "code",
   "execution_count": 91,
   "metadata": {},
   "outputs": [],
   "source": [
    "\n",
    "def train(intereses):\n",
    "    #Palabras que no consideraremos.\n",
    "    stop_words = stopwords.words('spanish')\n",
    "    my_stop_words = [\"CARRERA\",\"MATEMATICO\",\"SERIACION\", \"INDICATIVA\" ,\"ANTECEDENTE\",\"MODALIDAD\",\n",
    "    \"CURSO\",\"CARACTER\", \"TEORICAS\", \"PRACTICAS\" ,\"CREDITOS\", \"HORAS\", \"SEMANA\", \"SEMESTRE\", \"CLAVE\",\n",
    "    \"FACULTAD\", \"CIENCIAS\", \"OBJETIVO\",\"BIBLIOGRAFIA\", \"BASICA\", \"COMPLEMENTARIA\",\"SUGERENCIA\",           \"PARA\",\"LA\",\"EVALUACION\",\"DE\",\"LA\",\"ASIGNATURA\",\"Ademas\",\"de\",\"las\",\"calificaciones\",\n",
    "    \"en\",\"examenes\",\"y\",\"tareas\",\"se\",\"tomara\",\"en\",\"cuenta\",\"la\",\"participacion\",\"del\",\"alumno\",\n",
    "    \"PERFIL\",\"PROFESIOGRAFICO\",\"Matematico\",\"fisico\",\"actuario\",\"o\",\"licenciado\",\"en\",\"ciencias\",\n",
    "    \"de\",\"la\",\"computacion\",\"especialista\",\"en\",\"el\",\"area\",\"de\",\"la\",\"asignatura\",\"a\",\"juicio\",\n",
    "    \"del\",\"comite\",\"de\",\"asignacion\",\"de\", \"cursos\",\"UNIDADES\", \"TEMATICAS\",\"SERIACION\" ,\n",
    "    \"INDICATIVA\" ,\"ANTECEDENTE\", \"SUBSECUENTE\",\"optativo\",\"Optativas\"]\n",
    "    stop_words.append(my_stop_words)\n",
    "    materias[0] = intereses\n",
    "    #data = pd.DataFrame(materias)\n",
    "    data = pd.Series(materias).to_frame()\n",
    "    type(data)\n",
    "    data = data.rename(columns={0: 'Planes'})\n",
    "    #data[\"index\"] = pd.to_numeric(data[\"index\"])\n",
    "    data.index = data.index.map(int)\n",
    "    data.sort_index(inplace=True)\n",
    "\n",
    "    #print(data.columns)\n",
    "    #print(data.index)\n",
    "\n",
    "\n",
    "    #Define a TF-IDF Vectorizer Object. Remove all spanis stop words such as 'de', 'la', 'que', 'el'\n",
    "    with warnings.catch_warnings():\n",
    "        warnings.filterwarnings(\"ignore\")\n",
    "        tfidf = TfidfVectorizer(stop_words)\n",
    "\n",
    "    #Construct the required TF-IDF matrix by fitting and transforming the data\n",
    "    #print(data['Planes'])\n",
    "    tfidf_matrix = tfidf.fit_transform(data['Planes'])\n",
    "\n",
    "    #Vemos la forma de tfidf_matrix\n",
    "    tfidf_matrix.shape\n",
    "\n",
    "    #Palabras encontradas en todos los archivos\n",
    "    tfidf.get_feature_names()[2990:3007]\n",
    "\n",
    "\n",
    "    # Calculamos la matriz de similitudes con el coseno\n",
    "    cosine_sim = linear_kernel(tfidf_matrix, tfidf_matrix)\n",
    "    (cosine_sim.shape)\n",
    "    #print(cosine_sim[1])\n",
    "    \n",
    "    return data, cosine_sim\n",
    "    "
   ]
  },
  {
   "cell_type": "code",
   "execution_count": 92,
   "metadata": {},
   "outputs": [],
   "source": [
    "#indices = pd.Series(data.index, index=data.index).drop_duplicates()\n",
    "\n",
    "# Function that takes in movie title as input and outputs most similar movies\n",
    "def get_recommendations(intereses):\n",
    "    # Get the index of the movie that matches the title\n",
    "    data, matriz_similitudes = train(intereses)\n",
    "\n",
    "    # Get the pairwsie similarity scores of all plans with la lista\n",
    "    sim_scores = list(enumerate(matriz_similitudes[0]))\n",
    "    #print(sim_scores)\n",
    "\n",
    "    # Sort the topics based on the similarity scores\n",
    "    sim_scores = sorted(sim_scores, key=lambda x: x[1], reverse=True)\n",
    "    #print(sim_scores)\n",
    "    # Get the scores of the  10most similar topics\n",
    "    sim_scores = sim_scores[0:11]\n",
    "\n",
    "    # Get the movie indices\n",
    "    recomendaciones = [i[0] for i in sim_scores]\n",
    "    #print(recomendaciones)\n",
    "\n",
    "    # Return the top 10 most similar topics\n",
    "    return list(data.iloc[recomendaciones].index[1:])"
   ]
  },
  {
   "cell_type": "code",
   "execution_count": 95,
   "metadata": {},
   "outputs": [
    {
     "data": {
      "text/html": [
       "<div>\n",
       "<style scoped>\n",
       "    .dataframe tbody tr th:only-of-type {\n",
       "        vertical-align: middle;\n",
       "    }\n",
       "\n",
       "    .dataframe tbody tr th {\n",
       "        vertical-align: top;\n",
       "    }\n",
       "\n",
       "    .dataframe thead th {\n",
       "        text-align: right;\n",
       "    }\n",
       "</style>\n",
       "<table border=\"1\" class=\"dataframe\">\n",
       "  <thead>\n",
       "    <tr style=\"text-align: right;\">\n",
       "      <th></th>\n",
       "      <th>Planes</th>\n",
       "    </tr>\n",
       "  </thead>\n",
       "  <tbody>\n",
       "    <tr>\n",
       "      <th>0</th>\n",
       "      <td>Ecuaciones diferenciales</td>\n",
       "    </tr>\n",
       "    <tr>\n",
       "      <th>162</th>\n",
       "      <td>A DE MEXICO \\n\\n \\nFacultad de Ciencias \\n\\n \\...</td>\n",
       "    </tr>\n",
       "    <tr>\n",
       "      <th>183</th>\n",
       "      <td>A DE MEXICO \\n\\n \\nFacultad de Ciencias \\n\\n \\...</td>\n",
       "    </tr>\n",
       "    <tr>\n",
       "      <th>165</th>\n",
       "      <td>IVERSIDAD NACIONAL AUTONOMA DE MEXICO \\n\\n \\n ...</td>\n",
       "    </tr>\n",
       "    <tr>\n",
       "      <th>395</th>\n",
       "      <td>A DE MEXICO \\n\\n \\nFacultad de Ciencias \\n\\n \\...</td>\n",
       "    </tr>\n",
       "    <tr>\n",
       "      <th>433</th>\n",
       "      <td>s-numerico.pdf\\n\\n\\nPlan de Estudios de la Lic...</td>\n",
       "    </tr>\n",
       "    <tr>\n",
       "      <th>163</th>\n",
       "      <td>FACULTAD DE CIENCIAS\\n\\nCARRERA DE MATEMATICO\\...</td>\n",
       "    </tr>\n",
       "    <tr>\n",
       "      <th>83</th>\n",
       "      <td>A DE MEXICO \\n\\n \\nFacultad de Ciencias \\n\\n \\...</td>\n",
       "    </tr>\n",
       "    <tr>\n",
       "      <th>164</th>\n",
       "      <td>FACULTAD DE CIENCIAS\\n\\nCARRERA DE MATEMATICO\\...</td>\n",
       "    </tr>\n",
       "    <tr>\n",
       "      <th>939</th>\n",
       "      <td>FACULTAD DE CIENCIAS\\n\\nCARRERA DE MATEMATICO\\...</td>\n",
       "    </tr>\n",
       "    <tr>\n",
       "      <th>715</th>\n",
       "      <td>______________________________________________...</td>\n",
       "    </tr>\n",
       "  </tbody>\n",
       "</table>\n",
       "</div>"
      ],
      "text/plain": [
       "                                                Planes\n",
       "0                             Ecuaciones diferenciales\n",
       "162  A DE MEXICO \\n\\n \\nFacultad de Ciencias \\n\\n \\...\n",
       "183  A DE MEXICO \\n\\n \\nFacultad de Ciencias \\n\\n \\...\n",
       "165  IVERSIDAD NACIONAL AUTONOMA DE MEXICO \\n\\n \\n ...\n",
       "395  A DE MEXICO \\n\\n \\nFacultad de Ciencias \\n\\n \\...\n",
       "433  s-numerico.pdf\\n\\n\\nPlan de Estudios de la Lic...\n",
       "163  FACULTAD DE CIENCIAS\\n\\nCARRERA DE MATEMATICO\\...\n",
       "83   A DE MEXICO \\n\\n \\nFacultad de Ciencias \\n\\n \\...\n",
       "164  FACULTAD DE CIENCIAS\\n\\nCARRERA DE MATEMATICO\\...\n",
       "939  FACULTAD DE CIENCIAS\\n\\nCARRERA DE MATEMATICO\\...\n",
       "715  ______________________________________________..."
      ]
     },
     "execution_count": 95,
     "metadata": {},
     "output_type": "execute_result"
    }
   ],
   "source": [
    "# Devuelve una lista de 10 recomendaciones de la posicion 5 de los temarios. \n",
    "\n",
    "# Poner posicion, no clave.\n",
    "#1.pdf -> 0\n",
    "#2.pdf -> 1\n",
    "\n",
    "\"\"\"\n",
    "recomendacion = get_recommendations(\"Ecuaciones diferenciales\")\n",
    "recomendacion\n",
    "\"\"\""
   ]
  },
  {
   "cell_type": "code",
   "execution_count": 94,
   "metadata": {},
   "outputs": [],
   "source": [
    "#recomendacion"
   ]
  },
  {
   "cell_type": "code",
   "execution_count": null,
   "metadata": {},
   "outputs": [],
   "source": []
  }
 ],
 "metadata": {
  "kernelspec": {
   "display_name": "Python 3",
   "language": "python",
   "name": "python3"
  },
  "language_info": {
   "codemirror_mode": {
    "name": "ipython",
    "version": 3
   },
   "file_extension": ".py",
   "mimetype": "text/x-python",
   "name": "python",
   "nbconvert_exporter": "python",
   "pygments_lexer": "ipython3",
   "version": "3.8.3"
  }
 },
 "nbformat": 4,
 "nbformat_minor": 4
}
