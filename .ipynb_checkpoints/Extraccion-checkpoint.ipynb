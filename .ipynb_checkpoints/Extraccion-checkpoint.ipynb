{
 "cells": [
  {
   "cell_type": "markdown",
   "metadata": {},
   "source": [
    "# Proyecto Matemáticas Discretas"
   ]
  },
  {
   "cell_type": "markdown",
   "metadata": {},
   "source": [
    "A continuación se presenta el proyecto de la asignatura Matemáticas Discretas del IIMAS"
   ]
  },
  {
   "cell_type": "markdown",
   "metadata": {},
   "source": [
    "## Objetivo: \n",
    "Analizar los datos de las materias del ciclo 2021-1 de la Facultad de Ciencias de la UNAM, para crear un programa que acomode el horario de un alumno, dado su avance escolar y sus intereses para materias optativas."
   ]
  },
  {
   "cell_type": "markdown",
   "metadata": {},
   "source": [
    "## Extracción de los datos\n",
    "La obtención de los datos fue mediante el sitio de la facultad https://web.fciencias.unam.mx/docencia/horarios/indiceplan/20211/217, en donde se obtuvo el documento `20211.pdf`\n",
    "\n",
    "Para ello, vamos a convertir el pdf a texto con la siguiente función:"
   ]
  },
  {
   "cell_type": "code",
   "execution_count": 30,
   "metadata": {},
   "outputs": [],
   "source": [
    "import subprocess\n",
    "\n",
    "\n",
    "def normalizar(s):\n",
    "    '''\n",
    "    Función para quitar acentos de una cadena de texto\n",
    "    \n",
    "    :param str s: Cadena a quitarle acentos\n",
    "    \n",
    "    :returns str: Cadena sin acentos\n",
    "    '''\n",
    "    reemplazar = (\n",
    "        (\"á\", \"a\"),\n",
    "        (\"é\", \"e\"),\n",
    "        (\"í\", \"i\"),\n",
    "        (\"ó\", \"o\"),\n",
    "        (\"ú\", \"u\"),\n",
    "        ('á', 'a'), #Existen dos tipos de acentos en la codificación \n",
    "        (\"é\", \"e\"),\n",
    "        (\"ı́\", \"i\"),\n",
    "        (\"ó\", \"o\"),\n",
    "        (\"ú\", \"u\"),\n",
    "    )\n",
    "    for a, b in reemplazar:\n",
    "        s = s.replace(a, b)\n",
    "    return s\n",
    "\n",
    "\n",
    "def pdftotext(pdf, page=None):\n",
    "    \"\"\"Retrieve all text from a PDF file.\n",
    "\n",
    "    Arguments:\n",
    "        pdf Path of the file to read.\n",
    "        page: Number of the page to read. If None, read all the pages.\n",
    "\n",
    "    Returns:\n",
    "        A list of lines of text.\n",
    "    \"\"\"\n",
    "    if page is None:\n",
    "        args = ['pdftotext', '-layout', '-q', pdf, '-']\n",
    "    else:\n",
    "        args = ['pdftotext', '-f', str(page), '-l', str(page), '-layout',\n",
    "                '-q', pdf, '-']\n",
    "    try:\n",
    "        txt = subprocess.check_output(args, universal_newlines=True)\n",
    "        lines = txt.splitlines()\n",
    "    except subprocess.CalledProcessError:\n",
    "        lines = []\n",
    "    return [normalizar(line.lower()) for line in lines]\n",
    "\n",
    "\n",
    "lineas = pdftotext('ciencias_horarios/20211.pdf')"
   ]
  },
  {
   "cell_type": "markdown",
   "metadata": {},
   "source": [
    "Este segmento de código puede ser consultado en https://stackoverflow.com/questions/52683133/text-scraping-a-pdf-with-python-pdfquery"
   ]
  },
  {
   "cell_type": "markdown",
   "metadata": {},
   "source": [
    "Veamos cómo se ven nuestra variable:"
   ]
  },
  {
   "cell_type": "code",
   "execution_count": 31,
   "metadata": {},
   "outputs": [],
   "source": [
    "#Quitamos primeras lineas\n",
    "\n",
    "lineas = lineas[7:]\n",
    "if __name__=='__main__':\n",
    "    lineas[:20]"
   ]
  },
  {
   "cell_type": "markdown",
   "metadata": {},
   "source": [
    "A continuación, también usaremos como referencia el documento `materias`"
   ]
  },
  {
   "cell_type": "code",
   "execution_count": 32,
   "metadata": {},
   "outputs": [],
   "source": [
    "mat = open('ciencias_horarios/materias','r')\n",
    "\n",
    "reemplazo=(\n",
    "    ('\\t10',''),\n",
    "    ('\\t12',''),\n",
    "    ('\\t18',''),\n",
    "    ('\\t',' '),\n",
    "    ('\\n',''))\n",
    "\n",
    "materias = mat.readlines()\n",
    "\n",
    "for idx in range(len(materias)):\n",
    "    materia = materias[idx]\n",
    "    for a,b in reemplazo:\n",
    "        materia = materia.replace(a,b)\n",
    "    materias[idx] = normalizar(materia.lower())\n",
    "\n",
    "mat.close()"
   ]
  },
  {
   "cell_type": "markdown",
   "metadata": {},
   "source": [
    "Y para la carrera de Matemáticas, usaremos el plan de estudios de 1983, dividiendo las materias por semestre y optativas:"
   ]
  },
  {
   "cell_type": "code",
   "execution_count": 33,
   "metadata": {},
   "outputs": [],
   "source": [
    "def get_materia_clave(materias):\n",
    "    '''\n",
    "    Función que devolverá un diccionario con las claves y nombre de las materias\n",
    "    '''\n",
    "    dic_materias = {}\n",
    "    for materia in materias:\n",
    "        clave = materia[:4]\n",
    "        nom_materia = materia[5:]\n",
    "        dic_materias[clave] = nom_materia\n",
    "    return dic_materias\n",
    "\n",
    "primer_sem = get_materia_clave(materias[3:7])\n",
    "segundo_sem = get_materia_clave(materias[12:15])\n",
    "tercer_sem = get_materia_clave(materias[20:22])\n",
    "cuarto_sem = get_materia_clave(materias[27:30])\n",
    "quinto_sem = get_materia_clave(materias[35:38])\n",
    "sexto_sem = get_materia_clave(materias[43:44])\n",
    "optativas_1 = get_materia_clave(materias[49:66])\n",
    "optativas_2 = get_materia_clave(materias[71:106])\n",
    "optativas_3 = get_materia_clave(materias[111:])\n",
    "\n",
    "lista_materias = [primer_sem,\n",
    "                 segundo_sem,\n",
    "                 tercer_sem,\n",
    "                 cuarto_sem,\n",
    "                 quinto_sem,\n",
    "                 sexto_sem,\n",
    "                 optativas_1,\n",
    "                 optativas_2,\n",
    "                 optativas_3]"
   ]
  },
  {
   "cell_type": "code",
   "execution_count": 34,
   "metadata": {},
   "outputs": [],
   "source": [
    "if __name__=='__main__':\n",
    "    optativas_1"
   ]
  },
  {
   "cell_type": "markdown",
   "metadata": {},
   "source": [
    "A continuación usaremos la biblioteca de expresiones regulares y las funciones de análisis de patrones:"
   ]
  },
  {
   "cell_type": "code",
   "execution_count": 35,
   "metadata": {},
   "outputs": [],
   "source": [
    "import re\n",
    "prueba = lineas[10]\n",
    "\n",
    "def is_inicio_materia(linea):\n",
    "    '''\n",
    "    Dada una cadena de texto, identifica si es indicadora de materia,\n",
    "    es decir, si contiene la clave, nombre y grupo de una materia\n",
    "    \n",
    "    :param linea: Cadena de texto a analizar\n",
    "    \n",
    "    :returns Bool: Indicadora sobre si la cadena contiene información\n",
    "                   acerca de una materia.\n",
    "    '''\n",
    "    patron_inicio_materia = '^\\s*\\d{4}\\s*\\d*\\s*'\n",
    "    materia = re.match(patron_inicio_materia,linea)\n",
    "    if materia is None:\n",
    "        return False\n",
    "    return True\n",
    "\n",
    "def informacion_materia(texto):\n",
    "    '''\n",
    "    Dado un texto, identifica las tuplas con el inicio y fin de aquellas líneas de texto que delimitan \n",
    "    la información de una materia como profesor, nombre, horarios.\n",
    "    Ej:\n",
    "    Dada la cadena\n",
    "    ['        ayudante    edgar ladxidua saynes rueda',\n",
    " '     0007     10    algebra superior i                      4001      47',\n",
    " '         profesor   francisco marmolejo rivas                        lu mi vi   9 a 10',\n",
    " '        ayudante    bedani fernanda mendez muciño                    ma ju    9 a 10',\n",
    " '        ayudante    tonatiuh matos wiederhold',\n",
    " '     0007     10    algebra superior i                      4002      57',\n",
    " '         profesor   adriana leon montes                             lu mi vi   9 a 10',\n",
    " '        ayudante    luis arturo acosta aldaz                           ma ju    9 a 10',\n",
    " '        ayudante    arturo lopez gonzalez',\n",
    " '     0007     10    algebra superior i                      4003      41',\n",
    " '         profesor   ernesto mayorga saucedo                          lu mi vi   9 a 10',\n",
    " '        ayudante    luis alberto jimenez ramirez                     ma ju    9 a 10',\n",
    " '        ayudante    octavio daniel rios garcia',]\n",
    "     Regresará\n",
    "     [(1, 5), (5, 9), (9, 9)]\n",
    "     Pues son lineas que contienen información de materias, como no hay otra materia que empieza después de la última,\n",
    "     esta solo detectará el inicio y no el fin, pues detecta el fin de una materia si empieza otra o hay un salto de página\n",
    "     \n",
    "     :param [str] texto: Lista de cadenas a analizar\n",
    "     \n",
    "     :returns: Tuplas ordenadas según las líneas que contienen información sobre la materia.\n",
    "    '''\n",
    "    # Una materia acaba cuando empieza otra o hay una cadena de texto vacía\n",
    "    patron_inicio_materia = '^\\s*\\d{4}\\s*\\d*\\s*'\n",
    "    n = len(texto)\n",
    "    materias_=[]\n",
    "    i = 0\n",
    "    while i < n:\n",
    "        linea = texto[i]\n",
    "        if is_inicio_materia(linea):\n",
    "            inicio = i\n",
    "            for ii in range(i+1,n):\n",
    "                linea = texto[ii]\n",
    "                if linea=='' or is_inicio_materia(linea):\n",
    "                    fin = ii\n",
    "                    break\n",
    "            i = ii\n",
    "            materias_.append((inicio,fin))\n",
    "        else:\n",
    "            i += 1\n",
    "    return materias_"
   ]
  },
  {
   "cell_type": "markdown",
   "metadata": {},
   "source": [
    "El siguiente paso es dividir el texto de acuerdo a las materias:"
   ]
  },
  {
   "cell_type": "code",
   "execution_count": 36,
   "metadata": {},
   "outputs": [],
   "source": [
    "materias_ = []\n",
    "for inicio,fin in informacion_materia(lineas):\n",
    "    materias_.append(lineas[inicio:fin])\n",
    "\n",
    "info_optativas = lineas[2085:]\n",
    "for inicio,fin in informacion_materia(info_optativas):\n",
    "    materias_.append(info_optativas[inicio:fin])\n"
   ]
  },
  {
   "cell_type": "markdown",
   "metadata": {},
   "source": [
    "Ahora definimos funciones para la obtención de datos de cada materia"
   ]
  },
  {
   "cell_type": "code",
   "execution_count": 37,
   "metadata": {},
   "outputs": [],
   "source": [
    "def get_clave_grupo(materia):\n",
    "    '''\n",
    "    Dentro de una cadena con la información de una materia, recupera\n",
    "    la clave de materia y su grupo\n",
    "    \n",
    "    :param str materia: Cadena de texto de la cual se recuperará la información.\n",
    "    \n",
    "    :returns clave,grupo: Clave y grupo de la materia\n",
    "    '''\n",
    "    patron_inicio = '\\s*\\d{4}'\n",
    "    coincidencias = re.finditer(patron_inicio, materia)\n",
    "    clave_idx = next(coincidencias).end()-4\n",
    "    grupo_idx = next(coincidencias).end()-4\n",
    "    clave = materia[clave_idx:clave_idx+4]\n",
    "    grupo = materia[grupo_idx:grupo_idx+4]\n",
    "    \n",
    "    return clave, grupo\n",
    "\n",
    "def get_profesor(materia):\n",
    "    '''\n",
    "    Dada la información de una materia, recupera el \n",
    "    nombre del profesor\n",
    "    :param [str] materia: Lista de cadenas de texto de la cuál se recuperará el nombre del profesor.\n",
    "    \n",
    "    :returns str: Nombre del profesor.\n",
    "    '''\n",
    "    patron_profesor = '\\s*profesor\\s*'\n",
    "    for linea in materia:\n",
    "        profesor_idx = re.search(patron_profesor,linea)\n",
    "        if profesor_idx is not None:\n",
    "            #print(linea)\n",
    "            patron_fin_profesor = '\\s{10}'\n",
    "            profesor_end = re.search(patron_fin_profesor,linea).start()\n",
    "            profesor = linea[profesor_idx.end():profesor_end]\n",
    "            return profesor\n",
    "    return None\n",
    "\n",
    "def get_hora(linea):\n",
    "    '''\n",
    "    Regresa la hora de clase indicada en la linea si es que hay.\n",
    "    \n",
    "    :param str linea: Dada una cadena de texto, analiza si contiene un horario\n",
    "                     y recupera la hora sin importar qué días se imparte\n",
    "    \n",
    "    :returns None: En caso de que la línea no contenga hora.\n",
    "    :returns [inicio flt,fin flt]: Hora de inicio y término de la materia.\n",
    "    '''\n",
    "    patron_hora = '\\d+\\s*a\\s*\\d+'\n",
    "    hora_match = re.search(patron_hora,linea)\n",
    "    if hora_match is not None:\n",
    "        hora_match = hora_match.start()\n",
    "        hora_str = linea[hora_match:].replace(':30','.5')\n",
    "        separador = hora_str.find('a')\n",
    "        inicio = hora_str[:separador]\n",
    "        fin = hora_str[separador+1:]\n",
    "        return [float(inicio),float(fin)]\n",
    "    return None\n",
    "    \n",
    "def get_dia_hora(linea):\n",
    "    '''\n",
    "    Dada una linea, indica los días de la semana en la que se tiene\n",
    "    clase junto a sus horas\n",
    "    \n",
    "    :param str linea: Cadena de texto a analizar\n",
    "    \n",
    "    :returns dict dias: Diccionario con los días de la semana como llaves y sus horarios.\n",
    "    '''\n",
    "    dias = {\n",
    "        'lu':[],\n",
    "        'ma':[],\n",
    "        'mi':[],\n",
    "        'ju':[],\n",
    "        'vi':[],\n",
    "        'sa':[]\n",
    "    }\n",
    "    \n",
    "    for dia in dias.keys():\n",
    "        if dia=='lu':\n",
    "             if 'lu a vi' in linea:\n",
    "                dias['lu'].append(get_hora(linea))\n",
    "                dias['ma'].append(get_hora(linea))\n",
    "                dias['mi'].append(get_hora(linea))\n",
    "                dias['ju'].append(get_hora(linea))\n",
    "                dias['vi'].append(get_hora(linea))\n",
    "                break\n",
    "            \n",
    "             elif 'lu a sa' in linea:\n",
    "                dias['lu'].append(get_hora(linea))\n",
    "                dias['ma'].append(get_hora(linea))\n",
    "                dias['mi'].append(get_hora(linea))\n",
    "                dias['ju'].append(get_hora(linea))\n",
    "                dias['vi'].append(get_hora(linea))\n",
    "                dias['sa'].append(get_hora(linea))\n",
    "                break\n",
    "                \n",
    "             elif ' '+dia+' ' in linea:\n",
    "                dias[dia].append(get_hora(linea))\n",
    "        elif ' '+dia+' ' in linea:\n",
    "            dias[dia].append(get_hora(linea))\n",
    "    \n",
    "    return dias"
   ]
  },
  {
   "cell_type": "markdown",
   "metadata": {},
   "source": [
    "Ahora, procedemos a definir funciones que combinan las horas de las materias y finalmente consiguen el horario de una materia."
   ]
  },
  {
   "cell_type": "code",
   "execution_count": 38,
   "metadata": {},
   "outputs": [],
   "source": [
    "def mergeDict(dict1, dict2):\n",
    "    \n",
    "    ''' Combina los días de distintos diccionarios y combina horas\n",
    "    consecutivas.\n",
    "    \n",
    "    :param dict dict1: Diccionario a combinar con días de la semana y horas\n",
    "    :param dict dict2: Diccionario a combinar con días de la semana y horas\n",
    "    \n",
    "    :returns dict dict3: Diccionarios con la información acerca de un horario combinando horas consecutivas.\n",
    "    \n",
    "    '''\n",
    "    dict3 = {**dict1, **dict2}\n",
    "    for key, value in dict3.items():\n",
    "        if key in dict1 and key in dict2:\n",
    "            dict3[key] =  dict1[key] + value\n",
    "            \n",
    "        if len(dict3[key])>1:\n",
    "            if dict3[key][0][1] == dict3[key][1][0]:\n",
    "                dict3[key] = [[dict3[key][0][0],dict3[key][1][1]]]\n",
    "            elif dict3[key][0][0] == dict3[key][1][1]:\n",
    "                dict3[key] = [[dict3[key][1][0],dict3[key][0][1]]]\n",
    "        \n",
    "    return dict3\n",
    "\n",
    "def get_horario(materia):\n",
    "    '''\n",
    "    Dada la información de una materia, recupera el diccionario\n",
    "    con sus días y sus horas.\n",
    "    \n",
    "    :param [str] materias: Lista con cadenas sobre la información de una materia para obtener horario\n",
    "    \n",
    "    :returns dict: Diccionario con los días y horas en las que se imparte dicha materia.\n",
    "    '''\n",
    "    horario = {}\n",
    "    for linea in materia:\n",
    "        horario = mergeDict(get_dia_hora(linea), horario)\n",
    "    return horario\n",
    "\n"
   ]
  },
  {
   "cell_type": "markdown",
   "metadata": {},
   "source": [
    "Finalmente, obtenemos la información de todas las materias con ayuda de la siguiente función:"
   ]
  },
  {
   "cell_type": "code",
   "execution_count": 39,
   "metadata": {},
   "outputs": [],
   "source": [
    "def get_datos_materia(materia):\n",
    "    '''\n",
    "    Dada una materia, obtiene su clave, grupo, profesor y horario\n",
    "    \n",
    "    :param [str] materia: Lista de cadenas de texto de las qué recuperar datos.\n",
    "    \n",
    "    :returns dict: Datos de las materias con las llaves siendo el campo de información y los\n",
    "                    valores, los datos.\n",
    "    '''\n",
    "    clave, grupo = get_clave_grupo(materia[0])\n",
    "    for semestre in lista_materias:\n",
    "        if clave in semestre.keys():\n",
    "            materia_nom = semestre[clave]\n",
    "            break\n",
    "    \n",
    "    try:\n",
    "        profesor = get_profesor(materia)\n",
    "    except Exception as e:\n",
    "        profesor = 'Profesor Asignatura'\n",
    "    horario = get_horario(materia)\n",
    "    datos = {\n",
    "        'clave':clave,\n",
    "        'materia':materia_nom,\n",
    "        'grupo':grupo,\n",
    "        'profesor':profesor,\n",
    "        'horario':horario\n",
    "    }\n",
    "    return datos\n",
    "\n",
    "materias_limpio = []\n",
    "for materia in materias_:\n",
    "    materias_limpio.append(get_datos_materia(materia))\n"
   ]
  },
  {
   "cell_type": "code",
   "execution_count": 43,
   "metadata": {},
   "outputs": [
    {
     "name": "stdout",
     "output_type": "stream",
     "text": [
      "[{'clave': '0007', 'materia': 'algebra superior i', 'grupo': '4000', 'profesor': 'eugenia marmolejo rivas', 'horario': {'lu': [[9.0, 10.0]], 'ma': [[9.0, 10.0]], 'mi': [[9.0, 10.0]], 'ju': [[9.0, 10.0]], 'vi': [[9.0, 10.0]], 'sa': []}}, {'clave': '0007', 'materia': 'algebra superior i', 'grupo': '4001', 'profesor': 'francisco marmolejo rivas', 'horario': {'lu': [[9.0, 10.0]], 'ma': [[9.0, 10.0]], 'mi': [[9.0, 10.0]], 'ju': [[9.0, 10.0]], 'vi': [[9.0, 10.0]], 'sa': []}}, {'clave': '0007', 'materia': 'algebra superior i', 'grupo': '4002', 'profesor': 'adriana leon montes', 'horario': {'lu': [[9.0, 10.0]], 'ma': [[9.0, 10.0]], 'mi': [[9.0, 10.0]], 'ju': [[9.0, 10.0]], 'vi': [[9.0, 10.0]], 'sa': []}}, {'clave': '0007', 'materia': 'algebra superior i', 'grupo': '4003', 'profesor': 'ernesto mayorga saucedo', 'horario': {'lu': [[9.0, 10.0]], 'ma': [[9.0, 10.0]], 'mi': [[9.0, 10.0]], 'ju': [[9.0, 10.0]], 'vi': [[9.0, 10.0]], 'sa': []}}]\n"
     ]
    }
   ],
   "source": [
    "'''\n",
    "if __name__=='__main__':\n",
    "    print(materias_limpio[:4])\n",
    "'''"
   ]
  },
  {
   "cell_type": "code",
   "execution_count": 47,
   "metadata": {},
   "outputs": [
    {
     "data": {
      "text/plain": [
       "[[9.0, 10.0]]"
      ]
     },
     "execution_count": 47,
     "metadata": {},
     "output_type": "execute_result"
    }
   ],
   "source": [
    "prueba = materias_limpio[0]\n",
    "prueba['horario']['lu']"
   ]
  },
  {
   "cell_type": "code",
   "execution_count": 78,
   "metadata": {},
   "outputs": [],
   "source": [
    "class materia():\n",
    "    def __init__(self, clave,materia):\n",
    "        self.grupos = {}\n",
    "        self.clave = clave\n",
    "        self.nombre = materia\n",
    "        self.horarios = {\n",
    "            'lu':{},\n",
    "            'ma':{},\n",
    "            'mi':{},\n",
    "            'ju':{},\n",
    "            'vi':{},\n",
    "            'sa':{}\n",
    "        }\n",
    "        \n",
    "    def agregar_grupo(self,grupo,profesor,horario):\n",
    "        \n",
    "        for dia in horario.keys():\n",
    "            #print(horario[dia])\n",
    "            if horario[dia] !=[]:\n",
    "                hora_dia = tuple(horario[dia][0])\n",
    "\n",
    "                if hora_dia not in list(self.horarios[dia].keys()):\n",
    "\n",
    "                    self.horarios[dia][hora_dia] = []\n",
    "                self.horarios[dia][hora_dia].append(grupo)\n",
    "\n",
    "        self.grupos[grupo] = [profesor,horario]\n",
    "        \n",
    "dict_materias = {}\n",
    "claves = []\n",
    "for materia_limpio in materias_limpio:\n",
    "    clave = materia_limpio['clave']\n",
    "    if clave not in claves:\n",
    "        claves.append(clave)\n",
    "        asignatura = materia_limpio['materia']\n",
    "        mat = materia(clave,asignatura)\n",
    "        dict_materias[clave] = mat\n",
    "    \n",
    "    grupo = materia_limpio['grupo']\n",
    "    profesor = materia_limpio['profesor']\n",
    "    horario = materia_limpio['horario']\n",
    "    dict_materias[clave].agregar_grupo(grupo,profesor,horario)\n",
    "    \n"
   ]
  },
  {
   "cell_type": "code",
   "execution_count": 91,
   "metadata": {},
   "outputs": [
    {
     "name": "stdout",
     "output_type": "stream",
     "text": [
      "{'lu': {(7.0, 8.0): ['4174'], (9.0, 10.0): ['4175', '4176'], (11.0, 12.0): ['4177', '4178', '4179'], (17.0, 18.0): ['4180', '4331']}, 'ma': {(7.0, 8.0): ['4174'], (9.0, 10.0): ['4175', '4176'], (11.0, 12.0): ['4177', '4178', '4179'], (17.0, 18.0): ['4180', '4331']}, 'mi': {(7.0, 8.0): ['4174'], (9.0, 10.0): ['4175', '4176'], (11.0, 12.0): ['4177', '4178', '4179'], (17.0, 18.0): ['4180', '4331']}, 'ju': {(7.0, 8.0): ['4174'], (9.0, 10.0): ['4175', '4176'], (11.0, 12.0): ['4177', '4178', '4179'], (17.0, 18.0): ['4180', '4331']}, 'vi': {(7.0, 8.0): ['4174'], (9.0, 10.0): ['4175', '4176'], (11.0, 12.0): ['4177', '4178', '4179'], (17.0, 18.0): ['4180', '4331']}, 'sa': {}} \n",
      "\n",
      "((9.0, 10.0), ['4175', '4176']) \n",
      "\n",
      "algebra moderna i\n"
     ]
    }
   ],
   "source": [
    "def clave_to_nombre(clave):\n",
    "    '''\n",
    "    Dada una clave , regresa el nombre de la asignatura\n",
    "    '''\n",
    "    return dict_materias[clave].nombre\n",
    "\n",
    "\n",
    "def get_horario(clave,hora_inicio,dia):\n",
    "    '''\n",
    "    Dada una clave, regresa todos los grupos que comiencen a \n",
    "    la hora dada.\n",
    "    \n",
    "    :param clave str: Cadena de 4 dígitos que indica la materia\n",
    "    :param hora_inicio float: Hora a la que inicia la clase\n",
    "    :para dia str: Cadena de dos letras que indica el día del horario.\n",
    "    \n",
    "    :returns False: En caso de que no haya algún grupo en ese horario\n",
    "    :returns (horario_inicio,horario_fin), grupos:\n",
    "                    Regresa una tupla con inicio y fin de la materio junto\n",
    "                    a sus grupos.\n",
    "    '''\n",
    "    materia = dict_materias[clave]\n",
    "    for horario in materia.horarios[dia].keys():\n",
    "        if hora_inicio == horario[0]:\n",
    "            return horario, materia.horarios[dia][horario]\n",
    "    return False\n",
    "'''\n",
    "if __name__ == '__main__':\n",
    "    print(dict_materias['0001'].horarios,'\\n')\n",
    "    print(get_horario('0001',9.0,'lu'),'\\n')\n",
    "    print(clave_to_nombre('0001'))\n",
    "'''    "
   ]
  },
  {
   "cell_type": "code",
   "execution_count": null,
   "metadata": {},
   "outputs": [],
   "source": []
  },
  {
   "cell_type": "code",
   "execution_count": null,
   "metadata": {},
   "outputs": [],
   "source": []
  },
  {
   "cell_type": "code",
   "execution_count": null,
   "metadata": {},
   "outputs": [],
   "source": []
  },
  {
   "cell_type": "code",
   "execution_count": null,
   "metadata": {},
   "outputs": [],
   "source": []
  },
  {
   "cell_type": "code",
   "execution_count": null,
   "metadata": {},
   "outputs": [],
   "source": []
  },
  {
   "cell_type": "code",
   "execution_count": null,
   "metadata": {},
   "outputs": [],
   "source": []
  }
 ],
 "metadata": {
  "kernelspec": {
   "display_name": "Python 3",
   "language": "python",
   "name": "python3"
  },
  "language_info": {
   "codemirror_mode": {
    "name": "ipython",
    "version": 3
   },
   "file_extension": ".py",
   "mimetype": "text/x-python",
   "name": "python",
   "nbconvert_exporter": "python",
   "pygments_lexer": "ipython3",
   "version": "3.8.3"
  }
 },
 "nbformat": 4,
 "nbformat_minor": 4
}
