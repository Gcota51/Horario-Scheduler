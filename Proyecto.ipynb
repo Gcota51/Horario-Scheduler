{
 "cells": [
  {
   "cell_type": "code",
   "execution_count": 386,
   "metadata": {},
   "outputs": [],
   "source": []
  },
  {
   "cell_type": "code",
   "execution_count": 1,
   "metadata": {},
   "outputs": [],
   "source": [
    "%run Funciones.ipynb"
   ]
  },
  {
   "cell_type": "code",
   "execution_count": 3,
   "metadata": {},
   "outputs": [],
   "source": [
    "%run ParserMaterias.ipynb"
   ]
  },
  {
   "cell_type": "code",
   "execution_count": 4,
   "metadata": {},
   "outputs": [
    {
     "output_type": "execute_result",
     "data": {
      "text/plain": [
       "[162, 765, 183, 165, 766, 395, 433, 163, 712, 939]"
      ]
     },
     "metadata": {},
     "execution_count": 4
    }
   ],
   "source": [
    "get_recommendations(\"topologia ecuaciones diferenciales\")"
   ]
  },
  {
   "cell_type": "code",
   "execution_count": 5,
   "metadata": {},
   "outputs": [],
   "source": [
    "def get_recomendations_str(intereses):\n",
    "    '''\n",
    "    Dado una cadena con los intereses de alguna persona, regresa el nombre\n",
    "    de las materias que le recomienda.\n",
    "    ----------------------------------------------------------\n",
    "    :param intereses str: Cadena que tiene intereses del alumno\n",
    "    :returns [str]: Lista con materias a considerar\n",
    "    '''\n",
    "    recomendaciones = []\n",
    "    recomendaciones_num = get_recommendations(intereses)\n",
    "    for recomendacion in recomendaciones_num:\n",
    "        try:\n",
    "            recomendaciones.append((clave_to_nombre(recomendacion),str_to_clave(recomendacion)))\n",
    "        except Exception as e:\n",
    "            pass\n",
    "    return recomendaciones"
   ]
  },
  {
   "cell_type": "code",
   "execution_count": 6,
   "metadata": {},
   "outputs": [
    {
     "output_type": "execute_result",
     "data": {
      "text/plain": [
       "[('ecuaciones diferenciales i', '0162'),\n",
       " ('topologia i', '0765'),\n",
       " ('ecuaciones diferenciales parciales ii', '0183'),\n",
       " ('ecuaciones diferenciales parciales i', '0165'),\n",
       " ('topologia ii', '0766'),\n",
       " ('ecuaciones diferenciales ii', '0163'),\n",
       " ('seminario de topologia b', '0712')]"
      ]
     },
     "metadata": {},
     "execution_count": 6
    }
   ],
   "source": [
    "get_recomendations_str('topologia ecuaciones diferenciales')"
   ]
  },
  {
   "cell_type": "code",
   "execution_count": 393,
   "metadata": {},
   "outputs": [
    {
     "data": {
      "text/plain": [
       "({(10.0, 11.0): ['4212', '4213'], (9.0, 10.0): ['4214', '4214']},\n",
       " [(9.0, 10.0), (10.0, 11.0)],\n",
       " {'0002': ['4212', '4213'],\n",
       "  '0003': ['4214', '4214'],\n",
       "  '0083': [],\n",
       "  '0163': [],\n",
       "  '0715': []})"
      ]
     },
     "execution_count": 393,
     "metadata": {},
     "output_type": "execute_result"
    }
   ],
   "source": []
  },
  {
   "cell_type": "code",
   "execution_count": 394,
   "metadata": {},
   "outputs": [],
   "source": []
  },
  {
   "cell_type": "code",
   "execution_count": 406,
   "metadata": {},
   "outputs": [
    {
     "data": {
      "text/plain": [
       "True"
      ]
     },
     "execution_count": 406,
     "metadata": {},
     "output_type": "execute_result"
    }
   ],
   "source": []
  },
  {
   "cell_type": "code",
   "execution_count": 7,
   "metadata": {},
   "outputs": [
    {
     "output_type": "execute_result",
     "data": {
      "text/plain": [
       "['b']"
      ]
     },
     "metadata": {},
     "execution_count": 7
    }
   ],
   "source": [
    "lista = ['a','b']\n",
    "lista.remove('a')\n",
    "lista"
   ]
  },
  {
   "cell_type": "code",
   "execution_count": 8,
   "metadata": {},
   "outputs": [
    {
     "output_type": "execute_result",
     "data": {
      "text/plain": [
       "['a', 'b']"
      ]
     },
     "metadata": {},
     "execution_count": 8
    }
   ],
   "source": [
    "lista = ['a','b']\n",
    "random.shuffle(lista)\n",
    "lista"
   ]
  },
  {
   "cell_type": "code",
   "execution_count": 9,
   "metadata": {},
   "outputs": [
    {
     "output_type": "execute_result",
     "data": {
      "text/plain": [
       "(False,\n",
       " {'lu': {(15.0, 16.0): '4171', (19.0, 20.0): '4172'},\n",
       "  'ma': {(15.0, 16.0): '4171', (19.0, 20.0): '4172'},\n",
       "  'mi': {(15.0, 16.0): '4171', (19.0, 20.0): '4172'},\n",
       "  'ju': {(15.0, 16.0): '4171', (19.0, 20.0): '4172'},\n",
       "  'vi': {(15.0, 16.0): '4171', (19.0, 20.0): '4172'},\n",
       "  'sa': {}})"
      ]
     },
     "metadata": {},
     "execution_count": 9
    }
   ],
   "source": [
    "\n",
    "\n",
    "def conjunto_se_intersecta(grupos):\n",
    "    '''\n",
    "    Dado un conjunto de grupos, comprueba si los horarios\n",
    "    de los grupos se intersectan\n",
    "    -------------------------------------------------\n",
    "    :param grupos [str]: Lista de grupos\n",
    "    \n",
    "    :return Bool: Indicador de si los conjuntos se intersectan o no.\n",
    "    '''\n",
    "    dias = ['lu','ma','mi','ju','vi','sa']\n",
    "    primer_horario = grupo_info(grupos[0])[2]\n",
    "    horario = {dia:{} for dia in dias}\n",
    "    \n",
    "    for dia, hora in primer_horario.items():\n",
    "        horario[dia][hora] = grupos[0]\n",
    "    \n",
    "    for grupo in grupos[1:]:\n",
    "        horario_materia = grupo_info(grupo)[2]\n",
    "        if se_intersecta_semana(horario_materia,horario):\n",
    "            return True, horario\n",
    "        for dia, hora in horario_materia.items():\n",
    "            horario[dia][hora] = grupo\n",
    "\n",
    "    return False, horario\n",
    "conjunto_se_intersecta(['4171','4172'])"
   ]
  },
  {
   "cell_type": "code",
   "execution_count": 10,
   "metadata": {},
   "outputs": [
    {
     "output_type": "execute_result",
     "data": {
      "text/plain": [
       "({'lu': {(10.0, 11.0): '4316', (11.0, 12.0): '4179'},\n",
       "  'ma': {(10.0, 11.0): '4316', (11.0, 12.0): '4179'},\n",
       "  'mi': {(10.0, 11.0): '4316', (11.0, 12.0): '4179'},\n",
       "  'ju': {(10.0, 11.0): '4316', (11.0, 12.0): '4179'},\n",
       "  'vi': {(10.0, 11.0): '4316', (11.0, 12.0): '4179'},\n",
       "  'sa': {}},\n",
       " [('0766', '4316'), ('0001', '4179')])"
      ]
     },
     "metadata": {},
     "execution_count": 10
    }
   ],
   "source": [
    "def crear_horario(claves,hora_inicio,hora_fin,seed=None):\n",
    "    '''\n",
    "    Dada una lista de claves y hora de inicio y fin de un horario deseado,\n",
    "    regresa un diccionario con el horario de esas materias, así como\n",
    "    una lista de (clave,grupo) en caso de que sea posible formar el horario,\n",
    "    en caso contrario, regresa Falso\n",
    "    ----------------------------------------------------------------\n",
    "    :param claves [str]: Lista de claves\n",
    "    :param hora_inicio float: Hora de inicio de las clases representadas\n",
    "                             en horas u horas y media (XX.0, XX.5)\n",
    "    :param hora_fin float: Hora de fin de las clases representadas\n",
    "                             en horas u horas y media (XX.0, XX.5)\n",
    "    :param seed int: Semilla para la elección de grupos, en caso de no ser especificada,\n",
    "                    la elección de grupos será aleatoria\n",
    "    \n",
    "    :returns False: En caso de no haber una combinación posible\n",
    "    :returns horario dict: Diccionario con los días y las horas en que se tiene cada\n",
    "                        materia. Ejem:\n",
    "                        {'lu': {(9.0, 10.0): '4175', (8.0, 9.0): '4112'},\n",
    "                          'ma': {(9.0, 10.0): '4175', (8.0, 9.0): '4112'},\n",
    "                          'mi': {(9.0, 10.0): '4175', (8.0, 9.0): '4112'},\n",
    "                          'ju': {(9.0, 10.0): '4175', (8.0, 9.0): '4112'},\n",
    "                          'vi': {(9.0, 10.0): '4175', (8.0, 9.0): '4112'},\n",
    "                          'sa': {}}\n",
    "    :returns [(clave,grupo)]: Lista con las claves y grupos que se eligieron. \n",
    "                            Ejem: [('0001', '4175'), ('0005', '4112')]\n",
    "    '''\n",
    "    if hora_inicio%0.5 != 0:\n",
    "        raise Exception('Ese no es un horario válido, tiene que representar una hora o \\n fracción de media hora')\n",
    "        \n",
    "    if seed is None:\n",
    "        seed = random.randint(0,2**10)\n",
    "    random.seed(seed)\n",
    "    random.shuffle(claves)\n",
    "    \n",
    "    candidatos = generar_candidatos_semana(claves,hora_inicio,hora_fin)\n",
    "    candidatos_por_clave = candidatos[2]\n",
    "    for dia in candidatos_por_clave.keys():\n",
    "        if candidatos_por_clave[dia] == []:\n",
    "            return False #En caso de que no sea posible acomodar algún horario\n",
    "        random.shuffle(candidatos_por_clave[dia])\n",
    "    \n",
    "    grupos = list(candidatos_por_clave.values())\n",
    "    combinaciones = list(itertools.product(*grupos))\n",
    "    for comb in combinaciones:\n",
    "        if not conjunto_se_intersecta(comb)[0]:\n",
    "            return conjunto_se_intersecta(comb)[1], list(zip(claves,comb))\n",
    "    return False\n",
    "\n",
    "crear_horario(['0766','0001'],8,13)"
   ]
  },
  {
   "cell_type": "code",
   "execution_count": 11,
   "metadata": {},
   "outputs": [
    {
     "output_type": "execute_result",
     "data": {
      "text/plain": [
       "[('algebra moderna i', '0001'),\n",
       " ('electromagnetismo ii', '0609'),\n",
       " ('teoria de las graficas ii', '0277'),\n",
       " ('teoria de los numeros i', '0764'),\n",
       " ('fisica computacional', '0715'),\n",
       " ('variable compleja i', '0840')]"
      ]
     },
     "metadata": {},
     "execution_count": 11
    }
   ],
   "source": [
    "get_recomendations_str('Teoría de grupos')"
   ]
  },
  {
   "cell_type": "code",
   "execution_count": 401,
   "metadata": {},
   "outputs": [
    {
     "data": {
      "text/plain": [
       "'electromagnetismo ii'"
      ]
     },
     "execution_count": 401,
     "metadata": {},
     "output_type": "execute_result"
    }
   ],
   "source": [
    "clave_to_nombre('0609')"
   ]
  },
  {
   "cell_type": "code",
   "execution_count": 402,
   "metadata": {},
   "outputs": [
    {
     "data": {
      "text/plain": [
       "({'lu': {(8.0, 10.0): '8235'},\n",
       "  'ma': {},\n",
       "  'mi': {(8.0, 10.0): '8235'},\n",
       "  'ju': {},\n",
       "  'vi': {(8.0, 10.0): '8235'},\n",
       "  'sa': {}},\n",
       " [('0609', '8235')])"
      ]
     },
     "execution_count": 402,
     "metadata": {},
     "output_type": "execute_result"
    }
   ],
   "source": [
    "crear_horario(['0609'],8,13)"
   ]
  },
  {
   "cell_type": "code",
   "execution_count": 403,
   "metadata": {},
   "outputs": [
    {
     "data": {
      "text/plain": [
       "('0609',\n",
       " 'luis fernando magaña solis',\n",
       " {'lu': (8.0, 10.0), 'ma': (8.0, 10.0), 'ju': (8.0, 10.0)})"
      ]
     },
     "execution_count": 403,
     "metadata": {},
     "output_type": "execute_result"
    }
   ],
   "source": [
    "grupo_info('8234')"
   ]
  },
  {
   "cell_type": "code",
   "execution_count": 404,
   "metadata": {},
   "outputs": [],
   "source": [
    "clave_materia, profesor, horario = grupo_info('8234')"
   ]
  },
  {
   "cell_type": "code",
   "execution_count": 405,
   "metadata": {},
   "outputs": [
    {
     "data": {
      "text/plain": [
       "'0609'"
      ]
     },
     "execution_count": 405,
     "metadata": {},
     "output_type": "execute_result"
    }
   ],
   "source": [
    "clave_materia"
   ]
  },
  {
   "cell_type": "code",
   "execution_count": 385,
   "metadata": {},
   "outputs": [
    {
     "data": {
      "text/plain": [
       "'electromagnetismo ii'"
      ]
     },
     "execution_count": 385,
     "metadata": {},
     "output_type": "execute_result"
    }
   ],
   "source": [
    "clave_to_nombre(clave_materia)"
   ]
  },
  {
   "source": [
    "\"\"\"\n",
    "ESTO ES PARA VER COMO DEBEN IR LOS NODOS EN LATEX. EN CASO DE PASAR A LATEX\n",
    "\\node[a1] at (1,16) {VisualInfo};\n",
    "\\node[a1] at (4,16) {VisualInfo};\n",
    "\\node[a1] at (5,16) {VisualInfo};\n",
    "\\node[a1] at (4,17) {VisualInfo};\n",
    "\\node[a1] at (5,17) {VisualInfo};\n",
    "\"\"\""
   ],
   "cell_type": "code",
   "metadata": {},
   "execution_count": 140,
   "outputs": [
    {
     "output_type": "execute_result",
     "data": {
      "text/plain": [
       "'\\n\\node[a1] at (1,16) {VisualInfo};\\n\\node[a1] at (4,16) {VisualInfo};\\n\\node[a1] at (5,16) {VisualInfo};\\n\\node[a1] at (4,17) {VisualInfo};\\n\\node[a1] at (5,17) {VisualInfo};\\n'"
      ]
     },
     "metadata": {},
     "execution_count": 140
    }
   ]
  },
  {
   "cell_type": "code",
   "execution_count": 151,
   "metadata": {},
   "outputs": [],
   "source": [
    "def horario_toStr(horario):\n",
    "    latex = \"\"\n",
    "    if horario == False:\n",
    "        print(\"Lo siento, no fue posible crear un horario con estas materias\")\n",
    "    else:\n",
    "        print(\"Creamos el siguiente horario con los siguientes grupos:\")\n",
    "        for materia in horario[1]:\n",
    "            print(\"Grupo\",materia[1],\"->\", clave_to_nombre(materia[0]))\n",
    "        \n",
    "        print(\"\\n .-.-.-.-.-.-.-.-.-.-. \\n\")\n",
    "        for dia in horario[0]:\n",
    "            print(\"\\n\")\n",
    "            for clase in horario[0][dia]:\n",
    "                \n",
    "                aux = horario[0][dia][clase]\n",
    "                clave_materia, profesor, horas = grupo_info(aux)\n",
    "                if dia == 'lu':\n",
    "                    print(\"Lunes ->\",clase,\"->\",clave_to_nombre(clave_materia))\n",
    "                if dia == 'ma':\n",
    "                    print(\"Martes ->\",clase,\"->\",clave_to_nombre(clave_materia))\n",
    "                if dia == 'mi':\n",
    "                    print(\"Miercoles ->\",clase,\"->\",clave_to_nombre(clave_materia))\n",
    "                if dia == 'ju':\n",
    "                    print(\"Jueves ->\",clase,\"->\",clave_to_nombre(clave_materia))\n",
    "                if dia == 'vi':\n",
    "                    print(\"Viernes ->\",clase,\"->\",clave_to_nombre(clave_materia))\n",
    "                if dia == 'sa':\n",
    "                    print(\"Sabado ->\",clase,\"->\",clave_to_nombre(clave_materia))\n",
    "\n",
    "                    \n",
    "                \n",
    "        \n",
    "\n"
   ]
  },
  {
   "cell_type": "code",
   "execution_count": 185,
   "metadata": {},
   "outputs": [],
   "source": [
    "def main(str,inicio,fin):\n",
    "    print(\"Hola este es el súper creador de horarios 9000! \\n\")\n",
    "    print(\"Buscaremos horarios para estos intereses: \\n\" + str)\n",
    "    recomendaciones = get_recomendations_str(str)\n",
    "    \n",
    "    print(\"\\n .-.-.-.-.-.-.-.-.-.-. \\n\")\n",
    "    print(\"El algoritmo suguiere las siguientes materias para ti: \\n\")\n",
    "    claves_materias = []\n",
    "    i = 0\n",
    "    for recomendacion in recomendaciones:\n",
    "        print(i,\"->\",recomendacion[0])\n",
    "        claves_materias.append(recomendacion[1])\n",
    "        i += 1\n",
    "    \n",
    "    print(\"\\nPor favor usa los indices para elegir que deseas cursar: \\n\")\n",
    "    print(\"Elige las materias que desees tomar, separados por comas\\n\")\n",
    "    elecciones = input(\"Elige las materias que desees tomar, separados por comas\")\n",
    "    print(\"\\n .-.-.-.-.-.-.-.-.-.-. \\n\")\n",
    "\n",
    "    lista_deseados = []\n",
    "    elecciones = elecciones.split(\",\")\n",
    "    for num in elecciones:\n",
    "        lista_deseados.append(claves_materias[int(num)])\n",
    "        print(\"Elegiste las siguientes opciones:\",num)\n",
    "\n",
    "\n",
    "    print(\"\\n .-.-.-.-.-.-.-.-.-.-. \\n\")\n",
    "    print(\"Crearemos un horario en el que entres a las:\",inicio,\"y salgas a las:\",fin,\" \\n\")\n",
    "    horario = crear_horario(lista_deseados,inicio,fin)\n",
    "    horario_toStr(horario)\n",
    "    \n",
    "\n",
    "\n"
   ]
  },
  {
   "cell_type": "code",
   "execution_count": 186,
   "metadata": {},
   "outputs": [
    {
     "output_type": "stream",
     "name": "stdout",
     "text": [
      "Hola este es el súper creador de horarios 9000! \n",
      "\n",
      "Buscaremos horarios para estos intereses: \n",
      "Teoría de grupos\n",
      "\n",
      " .-.-.-.-.-.-.-.-.-.-. \n",
      "\n",
      "El algoritmo suguiere las siguientes materias para ti: \n",
      "\n",
      "0 -> algebra moderna i\n",
      "1 -> electromagnetismo ii\n",
      "2 -> teoria de las graficas ii\n",
      "3 -> teoria de los numeros i\n",
      "4 -> fisica computacional\n",
      "5 -> variable compleja i\n",
      "\n",
      "Por favor usa los indices para elegir que deseas cursar: \n",
      "\n",
      "Elige las materias que desees tomar, separados por comas\n",
      "\n",
      "\n",
      " .-.-.-.-.-.-.-.-.-.-. \n",
      "\n",
      "elegiste: 1\n",
      "elegiste: 2\n",
      "elegiste: 3\n",
      "\n",
      " .-.-.-.-.-.-.-.-.-.-. \n",
      "\n",
      "Crearemos un horario en el que entres a las: 8 y salgas a las: 20  \n",
      "\n",
      "Creamos el siguiente horario con los siguientes grupos:\n",
      "Grupo 8240 -> electromagnetismo ii\n",
      "Grupo 4297 -> teoria de las graficas ii\n",
      "Grupo 4357 -> teoria de los numeros i\n",
      "\n",
      " .-.-.-.-.-.-.-.-.-.-. \n",
      "\n",
      "\n",
      "\n",
      "Lunes -> (14.0, 16.0) -> electromagnetismo ii\n",
      "Lunes -> (11.0, 12.0) -> teoria de las graficas ii\n",
      "Lunes -> (9.0, 10.0) -> teoria de los numeros i\n",
      "\n",
      "\n",
      "Martes -> (11.0, 12.0) -> teoria de las graficas ii\n",
      "Martes -> (9.0, 10.0) -> teoria de los numeros i\n",
      "\n",
      "\n",
      "Miercoles -> (14.0, 16.0) -> electromagnetismo ii\n",
      "Miercoles -> (11.0, 12.0) -> teoria de las graficas ii\n",
      "Miercoles -> (9.0, 10.0) -> teoria de los numeros i\n",
      "\n",
      "\n",
      "Jueves -> (11.0, 12.0) -> teoria de las graficas ii\n",
      "Jueves -> (9.0, 10.0) -> teoria de los numeros i\n",
      "\n",
      "\n",
      "Viernes -> (14.0, 16.0) -> electromagnetismo ii\n",
      "Viernes -> (11.0, 12.0) -> teoria de las graficas ii\n",
      "Viernes -> (9.0, 10.0) -> teoria de los numeros i\n",
      "\n",
      "\n"
     ]
    }
   ],
   "source": [
    "main('Teoría de grupos',8,20)"
   ]
  },
  {
   "cell_type": "code",
   "execution_count": null,
   "metadata": {},
   "outputs": [],
   "source": []
  }
 ],
 "metadata": {
  "kernelspec": {
   "display_name": "Python 3",
   "language": "python",
   "name": "python3"
  },
  "language_info": {
   "codemirror_mode": {
    "name": "ipython",
    "version": 3
   },
   "file_extension": ".py",
   "mimetype": "text/x-python",
   "name": "python",
   "nbconvert_exporter": "python",
   "pygments_lexer": "ipython3",
   "version": "3.8.3-final"
  }
 },
 "nbformat": 4,
 "nbformat_minor": 4
}