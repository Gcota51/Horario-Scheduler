{
 "metadata": {
  "language_info": {
   "codemirror_mode": {
    "name": "ipython",
    "version": 3
   },
   "file_extension": ".py",
   "mimetype": "text/x-python",
   "name": "python",
   "nbconvert_exporter": "python",
   "pygments_lexer": "ipython3",
   "version": 3
  },
  "orig_nbformat": 2
 },
 "nbformat": 4,
 "nbformat_minor": 2,
 "cells": [
  {
   "cell_type": "code",
   "execution_count": null,
   "metadata": {},
   "outputs": [],
   "source": [
    "import subprocess\n",
    "\n",
    "def normalizar(s):\n",
    "    '''\n",
    "    Función para quitar acentos\n",
    "    '''\n",
    "    reemplazar = (\n",
    "        (\"á\", \"a\"),\n",
    "        (\"é\", \"e\"),\n",
    "        (\"í\", \"i\"),\n",
    "        (\"ó\", \"o\"),\n",
    "        (\"ú\", \"u\"),\n",
    "        ('á', 'a'), #Existen dos tipos de acentos en la codificación \n",
    "        (\"é\", \"e\"),\n",
    "        (\"ı́\", \"i\"),\n",
    "        (\"ó\", \"o\"),\n",
    "        (\"ú\", \"u\"),\n",
    "    )\n",
    "    for a, b in reemplazar:\n",
    "        s = s.replace(a, b)\n",
    "    return s\n",
    "    \n",
    "def pdftotext(pdf, page=None):\n",
    "    \"\"\"Retrieve all text from a PDF file.\n",
    "\n",
    "    Arguments:\n",
    "        pdf Path of the file to read.\n",
    "        page: Number of the page to read. If None, read all the pages.\n",
    "\n",
    "    Returns:\n",
    "        A list of lines of text.\n",
    "    \"\"\"\n",
    "    if page is None:\n",
    "        args = ['pdftotext', '-layout', '-q', pdf, '-']\n",
    "    else:\n",
    "        args = ['pdftotext', '-f', str(page), '-l', str(page), '-layout',\n",
    "                '-q', pdf, '-']\n",
    "    try:\n",
    "        txt = subprocess.check_output(args, universal_newlines=True)\n",
    "        lines = txt.splitlines()\n",
    "    except subprocess.CalledProcessError:\n",
    "        lines = []\n",
    "    return [normalizar(line.lower()) for line in lines]\n",
    "\n",
    "lineas = pdftotext('20211.pdf')"
   ]
  }
 ]
}