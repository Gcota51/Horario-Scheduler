{
 "metadata": {
  "language_info": {
   "codemirror_mode": {
    "name": "ipython",
    "version": 3
   },
   "file_extension": ".py",
   "mimetype": "text/x-python",
   "name": "python",
   "nbconvert_exporter": "python",
   "pygments_lexer": "ipython3",
   "version": "3.8.3-final"
  },
  "orig_nbformat": 2,
  "kernelspec": {
   "name": "python3",
   "display_name": "Python 3",
   "language": "python"
  }
 },
 "nbformat": 4,
 "nbformat_minor": 2,
 "cells": [
  {
   "source": [
    "# Setup\n"
   ],
   "cell_type": "markdown",
   "metadata": {}
  },
  {
   "source": [
    "Import nltk y descargar stopwords de la pestaña de corpus. EJECUCIÓN UNICA. "
   ],
   "cell_type": "markdown",
   "metadata": {}
  },
  {
   "cell_type": "code",
   "execution_count": null,
   "metadata": {},
   "outputs": [],
   "source": [
    "import nltk\n",
    "nltk.download()\n",
    "# Download stopwords from corpus"
   ]
  },
  {
   "cell_type": "code",
   "execution_count": 1,
   "metadata": {},
   "outputs": [],
   "source": [
    "from tika import parser #pip install tika REQUIERE JDK\n",
    "import os\n",
    "import unidecode #pip install unidecode\n",
    "import time\n",
    "#Import TfIdfVectorizer from scikit-learn\n",
    "from sklearn.feature_extraction.text import TfidfVectorizer\n",
    "from nltk.corpus import stopwords\n",
    "import pandas as pd\n",
    "from sklearn.metrics.pairwise import linear_kernel"
   ]
  },
  {
   "source": [
    "Esta sección parsea los datos de los pdf a los .txt"
   ],
   "cell_type": "markdown",
   "metadata": {}
  },
  {
   "cell_type": "code",
   "execution_count": null,
   "metadata": {},
   "outputs": [],
   "source": [
    "\n",
    "directory = \"data/planes_materias/pdf/\"\n",
    "\n",
    "for filename in os.listdir(directory):\n",
    "    if filename.endswith(\".pdf\"): \n",
    "        print(filename)\n",
    "        raw = parser.from_file(os.path.join(directory, filename))\n",
    "        #print(raw['content'])\n",
    "        lines = raw['content']\n",
    "\n",
    "        lines = unidecode.unidecode(lines[77:])\n",
    "        #print(lines)\n",
    "        f = open(os.path.join(\"data/planes_materias/txt/\", filename[:-3]+ \"txt\"), 'w')\n",
    "        f.write(lines)\n",
    "        f.close()\n",
    "        time.sleep(.9)\n",
    "        continue\n",
    "    else:\n",
    "        continue"
   ]
  },
  {
   "source": [
    "# Aqui empieza el main"
   ],
   "cell_type": "markdown",
   "metadata": {}
  },
  {
   "source": [
    "The problem at hand is a Natural Language Processing problem. Hence you need to extract some kind of features from the above text data before you can compute the similarity and/or dissimilarity between them. To put it simply, it is not possible to compute the similarity between any two overviews in their raw forms. To do this, you need to compute the word vectors of each overview or document, as it will be called from now on.\n",
    "\n",
    "As the name suggests, word vectors are vectorized representation of words in a document. The vectors carry a semantic meaning with it. For example, man & king will have vector representations close to each other while man & woman would have representation far from each other.\n",
    "\n",
    "You will compute Term Frequency-Inverse Document Frequency (TF-IDF) vectors for each document. This will give you a matrix where each column represents a word in the overview vocabulary (all the words that appear in at least one document), and each column represents a movie, as before.\n",
    "\n",
    "https://www.datacamp.com/community/tutorials/recommender-systems-python"
   ],
   "cell_type": "markdown",
   "metadata": {}
  },
  {
   "source": [
    "\n",
    "directory = \"data/planes_materias/txt/\"\n",
    "\n",
    "materias = {}\n",
    "#print(\"hola\")\n",
    "for filename in os.listdir(directory):\n",
    "    if filename.endswith(\".txt\"):\n",
    "        #print(filename) \n",
    "        f = open(os.path.join(directory, filename), 'r')\n",
    "        materias[filename[:-4]] = f.read()\n",
    "\n",
    "#print(materias['1.txt'])\n"
   ],
   "cell_type": "code",
   "metadata": {},
   "execution_count": 2,
   "outputs": []
  },
  {
   "cell_type": "code",
   "execution_count": 20,
   "metadata": {},
   "outputs": [],
   "source": [
    "\n",
    "def train(intereses):\n",
    "    #Palabras que no consideraremos.\n",
    "    stop_words = stopwords.words('spanish')\n",
    "    my_stop_words = [\"CARRERA\",\"MATEMATICO\",\"SERIACION\", \"INDICATIVA\" ,\"ANTECEDENTE\",\"MODALIDAD\",\n",
    "    \"CURSO\",\"CARACTER\", \"TEORICAS\", \"PRACTICAS\" ,\"CREDITOS\", \"HORAS\", \"SEMANA\", \"SEMESTRE\", \"CLAVE\",\n",
    "    \"FACULTAD\", \"CIENCIAS\", \"OBJETIVO\",\"BIBLIOGRAFIA\", \"BASICA\", \"COMPLEMENTARIA\",\"SUGERENCIA\",           \"PARA\",\"LA\",\"EVALUACION\",\"DE\",\"LA\",\"ASIGNATURA\",\"Ademas\",\"de\",\"las\",\"calificaciones\",\n",
    "    \"en\",\"examenes\",\"y\",\"tareas\",\"se\",\"tomara\",\"en\",\"cuenta\",\"la\",\"participacion\",\"del\",\"alumno\",\n",
    "    \"PERFIL\",\"PROFESIOGRAFICO\",\"Matematico\",\"fisico\",\"actuario\",\"o\",\"licenciado\",\"en\",\"ciencias\",\n",
    "    \"de\",\"la\",\"computacion\",\"especialista\",\"en\",\"el\",\"area\",\"de\",\"la\",\"asignatura\",\"a\",\"juicio\",\n",
    "    \"del\",\"comite\",\"de\",\"asignacion\",\"de\", \"cursos\",\"UNIDADES\", \"TEMATICAS\",\"SERIACION\" ,\n",
    "    \"INDICATIVA\" ,\"ANTECEDENTE\", \"SUBSECUENTE\",\"optativo\",\"Optativas\"]\n",
    "    stop_words.append(my_stop_words)\n",
    "    materias[0] = intereses\n",
    "    #data = pd.DataFrame(materias)\n",
    "    data = pd.Series(materias).to_frame()\n",
    "    type(data)\n",
    "    data = data.rename(columns={0: 'Planes'})\n",
    "    #data[\"index\"] = pd.to_numeric(data[\"index\"])\n",
    "    data.index = data.index.map(int)\n",
    "    data.sort_index(inplace=True)\n",
    "\n",
    "    #print(data.columns)\n",
    "    #print(data.index)\n",
    "\n",
    "\n",
    "    #Creamos el objeto TF-IDF. Eliminando del mismo las palabras que no usaremos 'de', 'la', 'que', 'el'\n",
    "    tfidf = TfidfVectorizer(stop_words)\n",
    "\n",
    "    #Construimos la matriz TF-IDF ajustando y transformando los datos .\n",
    "    tfidf_matrix = tfidf.fit_transform(data['Planes'])\n",
    "\n",
    "    #Vemos la forma de tfidf_matrix\n",
    "    tfidf_matrix.shape\n",
    "\n",
    "    #Palabras encontradas en todos los archivos\n",
    "    tfidf.get_feature_names()[2990:3007]\n",
    "\n",
    "\n",
    "    # Calculamos la matriz de similitudes con el coseno\n",
    "    cosine_sim = linear_kernel(tfidf_matrix, tfidf_matrix)\n",
    "    (cosine_sim.shape)\n",
    "    #print(cosine_sim[1])\n",
    "    \n",
    "    return data, cosine_sim\n",
    "    "
   ]
  },
  {
   "cell_type": "code",
   "execution_count": 21,
   "metadata": {},
   "outputs": [],
   "source": [
    "#indices = pd.Series(data.index, index=data.index).drop_duplicates()\n",
    "\n",
    "# Function that takes in movie title as input and outputs most similar movies\n",
    "def get_recommendations(intereses):\n",
    "    # Get the index of the movie that matches the title\n",
    "    data, matriz_similitudes = train(intereses)\n",
    "\n",
    "    # Get the pairwsie similarity scores of all plans with la lista\n",
    "    sim_scores = list(enumerate(matriz_similitudes[0]))\n",
    "    \n",
    "\n",
    "    # Sort the topics based on the similarity scores\n",
    "    sim_scores = sorted(sim_scores, key=lambda x: x[1], reverse=True)\n",
    "    #print(sim_scores)\n",
    "    # Get the scores of the  10most similar topics\n",
    "    sim_scores = sim_scores[0:11]\n",
    "\n",
    "    # Get the movie indices\n",
    "    recomendaciones = [i[0] for i in sim_scores]\n",
    "    #print(recomendaciones)\n",
    "\n",
    "    # Return the top 10 most similar topics\n",
    "    return data.iloc[recomendaciones]"
   ]
  },
  {
   "cell_type": "code",
   "execution_count": 22,
   "metadata": {},
   "outputs": [
    {
     "output_type": "stream",
     "name": "stdout",
     "text": [
      "[0, 114, 6, 115, 5, 94, 1, 116, 7, 8, 130]\n"
     ]
    },
    {
     "output_type": "execute_result",
     "data": {
      "text/plain": [
       "                                                Planes\n",
       "0                             Topologia Lineal Algebra\n",
       "765  FACULTAD DE CIENCIAS\\n\\nCARRERA DE MATEMATICO\\...\n",
       "6    FACULTAD DE CIENCIAS\\n\\nCARRERA DE MATEMATICO\\...\n",
       "766  FACULTAD DE CIENCIAS\\n\\nCARRERA DE MATEMATICO\\...\n",
       "5    A DE MEXICO \\n\\n \\nFacultad de Ciencias \\n\\n  ...\n",
       "712  FACULTAD DE CIENCIAS\\n\\nCARRERA DE MATEMATICO\\...\n",
       "1    FACULTAD DE CIENCIAS\\n\\nCARRERA DE MATEMATICO\\...\n",
       "767  FACULTAD DE CIENCIAS\\n\\nCARRERA DE MATEMATICO\\...\n",
       "7    A DE MEXICO \\n\\n \\n         Facultad de Cienci...\n",
       "8    A DE MEXICO \\n\\n \\nFacultad de Ciencias \\n\\n \\...\n",
       "937  FACULTAD DE CIENCIAS\\n\\nCARRERA DE MATEMATICO\\..."
      ],
      "text/html": "<div>\n<style scoped>\n    .dataframe tbody tr th:only-of-type {\n        vertical-align: middle;\n    }\n\n    .dataframe tbody tr th {\n        vertical-align: top;\n    }\n\n    .dataframe thead th {\n        text-align: right;\n    }\n</style>\n<table border=\"1\" class=\"dataframe\">\n  <thead>\n    <tr style=\"text-align: right;\">\n      <th></th>\n      <th>Planes</th>\n    </tr>\n  </thead>\n  <tbody>\n    <tr>\n      <th>0</th>\n      <td>Topologia Lineal Algebra</td>\n    </tr>\n    <tr>\n      <th>765</th>\n      <td>FACULTAD DE CIENCIAS\\n\\nCARRERA DE MATEMATICO\\...</td>\n    </tr>\n    <tr>\n      <th>6</th>\n      <td>FACULTAD DE CIENCIAS\\n\\nCARRERA DE MATEMATICO\\...</td>\n    </tr>\n    <tr>\n      <th>766</th>\n      <td>FACULTAD DE CIENCIAS\\n\\nCARRERA DE MATEMATICO\\...</td>\n    </tr>\n    <tr>\n      <th>5</th>\n      <td>A DE MEXICO \\n\\n \\nFacultad de Ciencias \\n\\n  ...</td>\n    </tr>\n    <tr>\n      <th>712</th>\n      <td>FACULTAD DE CIENCIAS\\n\\nCARRERA DE MATEMATICO\\...</td>\n    </tr>\n    <tr>\n      <th>1</th>\n      <td>FACULTAD DE CIENCIAS\\n\\nCARRERA DE MATEMATICO\\...</td>\n    </tr>\n    <tr>\n      <th>767</th>\n      <td>FACULTAD DE CIENCIAS\\n\\nCARRERA DE MATEMATICO\\...</td>\n    </tr>\n    <tr>\n      <th>7</th>\n      <td>A DE MEXICO \\n\\n \\n         Facultad de Cienci...</td>\n    </tr>\n    <tr>\n      <th>8</th>\n      <td>A DE MEXICO \\n\\n \\nFacultad de Ciencias \\n\\n \\...</td>\n    </tr>\n    <tr>\n      <th>937</th>\n      <td>FACULTAD DE CIENCIAS\\n\\nCARRERA DE MATEMATICO\\...</td>\n    </tr>\n  </tbody>\n</table>\n</div>"
     },
     "metadata": {},
     "execution_count": 22
    }
   ],
   "source": [
    "# Devuelve una lista de 10 recomendaciones de la posicion 5 de los temarios. \n",
    "\n",
    "# Poner posicion, no clave.\n",
    "#1.pdf -> 0\n",
    "#2.pdf -> 1\n",
    "\n",
    "get_recommendations(\"Topologia Lineal Algebra\")"
   ]
  },
  {
   "cell_type": "code",
   "execution_count": null,
   "metadata": {},
   "outputs": [],
   "source": []
  }
 ]
}